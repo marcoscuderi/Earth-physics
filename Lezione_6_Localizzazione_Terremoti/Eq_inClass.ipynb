{
 "cells": [
  {
   "cell_type": "markdown",
   "metadata": {
    "slideshow": {
     "slide_type": "slide"
    }
   },
   "source": [
    "# Earthquake location\n",
    "Earth Physics  \n",
    "Marco Scuderi  \n",
    "**Reminder**: all the scripts are available on [GitHub]('https://github.com/marcoscuderi/Earth-physics')\n",
    "\n",
    "The aim of this program is to analyze real seismograms from stations close by an earthquake to individuate the Hypocenter of the earthquake."
   ]
  },
  {
   "cell_type": "markdown",
   "metadata": {
    "slideshow": {
     "slide_type": "slide"
    }
   },
   "source": [
    "## Theoretical background "
   ]
  },
  {
   "cell_type": "markdown",
   "metadata": {
    "slideshow": {
     "slide_type": "slide"
    }
   },
   "source": [
    "**Problem set**: We need to find the **epicenter** of an earthquake (i.e. location)\n",
    "\n",
    "**What do we know**: we can record the waveform that propagates through the Erath at different stations that may or may not be close to the epicenter of the earthquae. From the **seismograms** we can individuate the time arrival of the **P and S waves** ($t_p$ and $t_s$). \n",
    "\n",
    "**What I do not know**: I need to calculate the **oring time** ($t_0$) of the earthquake. This is fundamental to calculate the **traveltime** of the waveform:  \n",
    "$T_p$ = $t_p-t_0$\n"
   ]
  },
  {
   "cell_type": "markdown",
   "metadata": {
    "slideshow": {
     "slide_type": "slide"
    }
   },
   "source": [
    "<div style=\"display: flex; flex-direction: row; align-items: center; justify-content: space-between;\">\n",
    "    <div style=\"flex: 1;\">\n",
    "\n",
    "**What tools we can use?**: we need to be clever in using the arrival time of the P and S waves to build the **Wadati diagram** to retrive the origin time. \n",
    "\n",
    "$t_s - t_p = t_p(\\frac{v_p}{v_s}-1)-t_0(\\frac{v_p}{v_s}-1)$  \n",
    "\n",
    "</div>\n",
    "    <div style=\"flex: 1; text-align: right;\">\n",
    "        <img src=\"Figure_2.png\" alt=\"Your Figure\" width=\"800\"/>\n",
    "    </div>\n",
    "</div>\n"
   ]
  },
  {
   "cell_type": "markdown",
   "metadata": {
    "slideshow": {
     "slide_type": "slide"
    }
   },
   "source": [
    "#### Now we know the origin time   $t_0$  \n",
    "This information allows us to calculate the **traveltime**: $T_p = t_p - t_0$  \n",
    "\n",
    "\n",
    "To find the location I can follow two paths:  \n",
    " \n",
    "- **first solution**  \n",
    "If I know the velocity of the medium I can calculate the **Distance** as follows: $D = V_p * T_p$ \n",
    "\n",
    "We can assume as constant velcoty v=5.5 [km/s] that is characteristic of the carbonates in the upper part of the crust in the appennines (8-10km depth) where seismogenic faults are present.  \n",
    "\n",
    "- **second solution**  \n",
    "If we do not know the origin time we can assume a $\\frac{v_p}{v_s} = \\sqrt{3}$.  In other words we assume a Poissonian medium. "
   ]
  },
  {
   "cell_type": "markdown",
   "metadata": {
    "slideshow": {
     "slide_type": "slide"
    }
   },
   "source": [
    "### Import the necessary packages   \n",
    "**note** you have to install pyproj  \n",
    "``` conda install pyproj```"
   ]
  },
  {
   "cell_type": "code",
   "execution_count": 1,
   "metadata": {
    "slideshow": {
     "slide_type": "-"
    }
   },
   "outputs": [
    {
     "name": "stderr",
     "output_type": "stream",
     "text": [
      "Warning: Ignoring XDG_SESSION_TYPE=wayland on Gnome. Use QT_QPA_PLATFORM=wayland to run on Wayland anyway.\n"
     ]
    }
   ],
   "source": [
    "import numpy as np \n",
    "import pandas as pd\n",
    "import matplotlib.pyplot as plt \n",
    "from scipy.stats import linregress \n",
    "import pyproj \n",
    "\n",
    "%matplotlib qt"
   ]
  },
  {
   "cell_type": "markdown",
   "metadata": {
    "slideshow": {
     "slide_type": "slide"
    }
   },
   "source": [
    "### Step one - import the data\n",
    "In the excercise folder we have the data collected from the three components seismometers (i.e. x,y,z) at each station (GUMA, NRCA, PTQR and TERO).  \n",
    "**know your data** For each station we have a separate file for each component (E, N, Z) "
   ]
  },
  {
   "cell_type": "code",
   "execution_count": 3,
   "metadata": {
    "slideshow": {
     "slide_type": "-"
    }
   },
   "outputs": [],
   "source": [
    "stazioni = ['NRCA','TERO','PTQR', 'GUMA']\n",
    "componenti = ['.E.asc', '.N.asc', '.Z.asc']\n"
   ]
  },
  {
   "cell_type": "code",
   "execution_count": 5,
   "metadata": {
    "slideshow": {
     "slide_type": "fragment"
    }
   },
   "outputs": [
    {
     "name": "stdout",
     "output_type": "stream",
     "text": [
      "['./data/NRCA.N.asc', './data/TERO.N.asc', './data/PTQR.N.asc', './data/GUMA.N.asc']\n"
     ]
    }
   ],
   "source": [
    "import os \n",
    "file_N=[]; file_E=[]; file_Z=[]\n",
    "\n",
    "for i in range(len(stazioni)):\n",
    "    file_N.append(os.path.join('./data',stazioni[i]+componenti[1]))\n",
    "    file_E.append(os.path.join('./data',stazioni[i]+componenti[0]))\n",
    "    file_Z.append(os.path.join('./data',stazioni[i]+componenti[2]))\n",
    "\n",
    "print(file_N)\n"
   ]
  },
  {
   "cell_type": "code",
   "execution_count": 8,
   "metadata": {
    "slideshow": {
     "slide_type": "fragment"
    }
   },
   "outputs": [
    {
     "data": {
      "text/plain": [
       "{'NRCA_N': array([[ 9.9999998e-03,  3.4403418e+02],\n",
       "        [ 2.0000000e-02,  3.7803262e+02],\n",
       "        [ 2.9999999e-02,  3.8803107e+02],\n",
       "        ...,\n",
       "        [ 4.8998999e+02, -6.3628906e+01],\n",
       "        [ 4.8999999e+02, -8.6630447e+01],\n",
       "        [ 4.9000999e+02, -1.0663200e+02]]),\n",
       " 'NRCA_E': array([[ 9.9999998e-03,  3.7465384e+02],\n",
       "        [ 2.0000000e-02,  3.9765396e+02],\n",
       "        [ 2.9999999e-02,  4.0465405e+02],\n",
       "        ...,\n",
       "        [ 4.8998999e+02, -1.2380201e+02],\n",
       "        [ 4.8999999e+02, -1.2180190e+02],\n",
       "        [ 4.9000999e+02, -1.1180178e+02]]),\n",
       " 'NRCA_Z': array([[9.9999998e-03, 1.9478838e+01],\n",
       "        [2.0000000e-02, 5.1456013e+01],\n",
       "        [2.9999999e-02, 5.9433182e+01],\n",
       "        ...,\n",
       "        [4.8998999e+02, 5.1956250e+02],\n",
       "        [4.8999999e+02, 4.7853955e+02],\n",
       "        [4.9000999e+02, 4.6851672e+02]]),\n",
       " 'TERO_N': array([[ 9.9999998e-03, -1.1776723e+01],\n",
       "        [ 2.0000000e-02,  3.8223282e+01],\n",
       "        [ 2.9999999e-02, -1.6776707e+01],\n",
       "        ...,\n",
       "        [ 4.8998999e+02, -7.3873167e+00],\n",
       "        [ 4.8999999e+02,  4.8612690e+01],\n",
       "        [ 4.9000999e+02,  3.8612698e+01]]),\n",
       " 'TERO_E': array([[9.9999998e-03, 3.4569084e+01],\n",
       "        [2.0000000e-02, 3.7569077e+01],\n",
       "        [2.9999999e-02, 1.4569068e+01],\n",
       "        ...,\n",
       "        [4.8998999e+02, 1.1417526e+02],\n",
       "        [4.8999999e+02, 6.6175255e+01],\n",
       "        [4.9000999e+02, 4.5175243e+01]]),\n",
       " 'TERO_Z': array([[ 9.9999998e-03,  2.9196570e+00],\n",
       "        [ 2.0000000e-02, -3.9080322e+01],\n",
       "        [ 2.9999999e-02,  1.0491970e+02],\n",
       "        ...,\n",
       "        [ 4.8998999e+02, -3.2043083e+01],\n",
       "        [ 4.8999999e+02, -3.6043060e+01],\n",
       "        [ 4.9000999e+02,  5.2956959e+01]]),\n",
       " 'PTQR_N': array([[ 9.9999998e-03, -3.5324722e+01],\n",
       "        [ 2.0000000e-02, -1.7325447e+01],\n",
       "        [ 2.9999999e-02,  1.6738267e+00],\n",
       "        ...,\n",
       "        [ 4.8998999e+02, -1.5914394e+01],\n",
       "        [ 4.8999999e+02, -1.7915119e+01],\n",
       "        [ 4.9000999e+02, -7.9158473e+00]]),\n",
       " 'PTQR_E': array([[ 9.9999998e-03, -5.3533726e+01],\n",
       "        [ 2.0000000e-02, -2.8534185e+01],\n",
       "        [ 2.9999999e-02, -1.1534642e+01],\n",
       "        ...,\n",
       "        [ 4.8998999e+02,  7.0036568e+01],\n",
       "        [ 4.8999999e+02,  6.9036110e+01],\n",
       "        [ 4.9000999e+02,  8.5035652e+01]]),\n",
       " 'PTQR_Z': array([[ 9.9999998e-03, -3.3655346e+01],\n",
       "        [ 2.0000000e-02, -3.3659088e+01],\n",
       "        [ 2.9999999e-02, -2.9662828e+01],\n",
       "        ...,\n",
       "        [ 4.8998999e+02, -2.1025051e+01],\n",
       "        [ 4.8999999e+02, -1.6028790e+01],\n",
       "        [ 4.9000999e+02, -2.0032528e+01]]),\n",
       " 'GUMA_N': array([[ 9.9999998e-03, -5.0959020e+00],\n",
       "        [ 2.0000000e-02,  3.5904022e+01],\n",
       "        [ 2.9999999e-02,  7.9903954e+01],\n",
       "        ...,\n",
       "        [ 4.8998999e+02,  1.1623590e+02],\n",
       "        [ 4.8999999e+02,  1.2123583e+02],\n",
       "        [ 4.9000999e+02,  9.4235756e+01]]),\n",
       " 'GUMA_E': array([[ 9.9999998e-03,  4.7721386e+01],\n",
       "        [ 2.0000000e-02,  3.7720474e+01],\n",
       "        [ 2.9999999e-02,  4.8719563e+01],\n",
       "        ...,\n",
       "        [ 4.8998999e+02,  1.0068589e+00],\n",
       "        [ 4.8999999e+02, -8.9940567e+00],\n",
       "        [ 4.9000999e+02, -7.5994965e+01]]),\n",
       " 'GUMA_Z': array([[9.9999998e-03, 6.5920693e-01],\n",
       "        [2.0000000e-02, 3.3663082e+01],\n",
       "        [2.9999999e-02, 1.0966696e+02],\n",
       "        ...,\n",
       "        [4.8998999e+02, 1.9169803e+02],\n",
       "        [4.8999999e+02, 1.7370190e+02],\n",
       "        [4.9000999e+02, 2.0370578e+02]])}"
      ]
     },
     "execution_count": 8,
     "metadata": {},
     "output_type": "execute_result"
    }
   ],
   "source": [
    "data = {}\n",
    "kk = 0\n",
    "for i in zip(file_N,file_E,file_Z):\n",
    "    data['%s_N'%stazioni[kk]] = np.loadtxt(i[0])\n",
    "    data['%s_E'%stazioni[kk]] = np.loadtxt(i[1])\n",
    "    data['%s_Z'%stazioni[kk]] = np.loadtxt(i[2])\n",
    "    kk+=1\n",
    "data"
   ]
  },
  {
   "cell_type": "markdown",
   "metadata": {
    "slideshow": {
     "slide_type": "slide"
    }
   },
   "source": [
    "Now we can plot the waveforms from all the stations"
   ]
  },
  {
   "cell_type": "code",
   "execution_count": 16,
   "metadata": {
    "slideshow": {
     "slide_type": "-"
    }
   },
   "outputs": [
    {
     "name": "stdout",
     "output_type": "stream",
     "text": [
      "NRCA\n",
      "TERO\n",
      "PTQR\n",
      "GUMA\n"
     ]
    }
   ],
   "source": [
    "\n",
    "for i in stazioni:\n",
    "    fig, ax = plt.subplots(nrows=3, figsize=(12,12), sharex=True)\n",
    "    \n",
    "    ax[0].title.set_text(i)\n",
    "    \n",
    "    ax[0].plot(data['%s_N'%i][:,0],data['%s_N'%i][:,1])\n",
    "\n",
    "    ax[1].plot(data['%s_E'%i][:,0],data['%s_E'%i][:,1])\n",
    "\n",
    "    ax[2].plot(data['%s_Z'%i][:,0],data['%s_Z'%i][:,1])\n",
    "    \n",
    "    print(i)"
   ]
  },
  {
   "cell_type": "markdown",
   "metadata": {
    "slideshow": {
     "slide_type": "slide"
    }
   },
   "source": [
    "Now we can create variables to store the values of $t_p$ and $t_s$.  \n",
    "I can also calculate the $t_p-t_s$ difference for every station.\n",
    "- tp, ts \n",
    "- ts-tp"
   ]
  },
  {
   "cell_type": "code",
   "execution_count": 18,
   "metadata": {
    "slideshow": {
     "slide_type": "-"
    }
   },
   "outputs": [],
   "source": [
    "# NRCA\n",
    "tp_1 = 98.7\n",
    "ts_1 =105.2\n",
    "y1 = ts_1-tp_1\n",
    "\n",
    "#GUMA\n",
    "tp_2 = 103\n",
    "ts_2= 112.7\n",
    "y2 = ts_2-tp_2\n",
    "\n",
    "#TERO\n",
    "tp_3 = 96.4\n",
    "ts_3 = 100.6\n",
    "y3 = ts_3 - tp_3\n",
    "\n",
    "# PTQR\n",
    "tp_4 = 98.4\n",
    "ts_4 = 103\n",
    "y4 = ts_4-tp_4\n"
   ]
  },
  {
   "cell_type": "markdown",
   "metadata": {
    "slideshow": {
     "slide_type": "slide"
    }
   },
   "source": [
    "To facilitate data manipulation I can create a pandas dataframe "
   ]
  },
  {
   "cell_type": "code",
   "execution_count": 21,
   "metadata": {
    "slideshow": {
     "slide_type": "-"
    }
   },
   "outputs": [
    {
     "data": {
      "text/html": [
       "<div>\n",
       "<style scoped>\n",
       "    .dataframe tbody tr th:only-of-type {\n",
       "        vertical-align: middle;\n",
       "    }\n",
       "\n",
       "    .dataframe tbody tr th {\n",
       "        vertical-align: top;\n",
       "    }\n",
       "\n",
       "    .dataframe thead th {\n",
       "        text-align: right;\n",
       "    }\n",
       "</style>\n",
       "<table border=\"1\" class=\"dataframe\">\n",
       "  <thead>\n",
       "    <tr style=\"text-align: right;\">\n",
       "      <th></th>\n",
       "      <th>stazioni</th>\n",
       "      <th>tp</th>\n",
       "      <th>ts</th>\n",
       "      <th>ts_tp</th>\n",
       "    </tr>\n",
       "  </thead>\n",
       "  <tbody>\n",
       "    <tr>\n",
       "      <th>0</th>\n",
       "      <td>NRCA</td>\n",
       "      <td>98.7</td>\n",
       "      <td>105.2</td>\n",
       "      <td>6.5</td>\n",
       "    </tr>\n",
       "    <tr>\n",
       "      <th>1</th>\n",
       "      <td>GUMA</td>\n",
       "      <td>103.0</td>\n",
       "      <td>112.7</td>\n",
       "      <td>9.7</td>\n",
       "    </tr>\n",
       "    <tr>\n",
       "      <th>2</th>\n",
       "      <td>TERO</td>\n",
       "      <td>96.4</td>\n",
       "      <td>100.6</td>\n",
       "      <td>4.2</td>\n",
       "    </tr>\n",
       "    <tr>\n",
       "      <th>3</th>\n",
       "      <td>PTQR</td>\n",
       "      <td>98.4</td>\n",
       "      <td>103.0</td>\n",
       "      <td>4.6</td>\n",
       "    </tr>\n",
       "  </tbody>\n",
       "</table>\n",
       "</div>"
      ],
      "text/plain": [
       "  stazioni     tp     ts  ts_tp\n",
       "0     NRCA   98.7  105.2    6.5\n",
       "1     GUMA  103.0  112.7    9.7\n",
       "2     TERO   96.4  100.6    4.2\n",
       "3     PTQR   98.4  103.0    4.6"
      ]
     },
     "execution_count": 21,
     "metadata": {},
     "output_type": "execute_result"
    }
   ],
   "source": [
    "junk = { 'stazioni':['NRCA', 'GUMA', 'TERO', 'PTQR'],\n",
    "        'tp':[tp_1,tp_2,tp_3,tp_4],\n",
    "        'ts':[ts_1, ts_2,ts_3,ts_4],\n",
    "        'ts_tp':[y1,y2,y3,y4] }\n",
    "\n",
    "data = pd.DataFrame(junk)\n",
    "data\n"
   ]
  },
  {
   "cell_type": "markdown",
   "metadata": {
    "slideshow": {
     "slide_type": "slide"
    }
   },
   "source": [
    "Now we are ready to visualize the data"
   ]
  },
  {
   "cell_type": "code",
   "execution_count": 22,
   "metadata": {
    "slideshow": {
     "slide_type": "-"
    }
   },
   "outputs": [
    {
     "data": {
      "text/plain": [
       "<matplotlib.collections.PathCollection at 0x7fb6421cfd60>"
      ]
     },
     "execution_count": 22,
     "metadata": {},
     "output_type": "execute_result"
    }
   ],
   "source": [
    "fig = plt.figure()\n",
    "plt.scatter(data.tp, data.ts_tp)\n"
   ]
  },
  {
   "cell_type": "markdown",
   "metadata": {
    "slideshow": {
     "slide_type": "slide"
    }
   },
   "source": [
    "To calculate the origin time we need to perform a linear fit to the data and calculate the intercept for y=0"
   ]
  },
  {
   "cell_type": "code",
   "execution_count": 26,
   "metadata": {
    "slideshow": {
     "slide_type": "-"
    }
   },
   "outputs": [
    {
     "data": {
      "text/plain": [
       "91.90764529807934"
      ]
     },
     "execution_count": 26,
     "metadata": {},
     "output_type": "execute_result"
    }
   ],
   "source": [
    "fit = linregress(data.tp, data.ts_tp)\n",
    "t_0 = - fit[1]/fit[0]\n",
    "\n",
    "t_0"
   ]
  },
  {
   "cell_type": "markdown",
   "metadata": {
    "slideshow": {
     "slide_type": "slide"
    }
   },
   "source": [
    "Now we can plot all together"
   ]
  },
  {
   "cell_type": "code",
   "execution_count": 28,
   "metadata": {
    "slideshow": {
     "slide_type": "-"
    }
   },
   "outputs": [
    {
     "data": {
      "text/plain": [
       "<matplotlib.lines.Line2D at 0x7fb64210e140>"
      ]
     },
     "execution_count": 28,
     "metadata": {},
     "output_type": "execute_result"
    }
   ],
   "source": [
    "fig = plt.figure()\n",
    "plt.scatter(data.tp, data.ts_tp,color='r')\n",
    "\n",
    "x = np.arange(-1,150,1)\n",
    "y = fit[0]*x+fit[1]\n",
    "\n",
    "plt.plot(x,y,'r--')\n",
    "\n",
    "plt.scatter(t_0, 0, color='m', marker='D', s=50)\n",
    "plt.axhline(y=0, color='k')\n"
   ]
  },
  {
   "cell_type": "markdown",
   "metadata": {
    "slideshow": {
     "slide_type": "slide"
    }
   },
   "source": [
    "Ora stimiamo le distanze dalle varie stazioni e quindi stimiamo la nostra localizzazione partendo dai dati ottenuti dal diagramma di Wadati: \n",
    "\n",
    "**Metodo 1: D = Vp * T<sub>p</sub>**. "
   ]
  },
  {
   "cell_type": "code",
   "execution_count": 31,
   "metadata": {
    "slideshow": {
     "slide_type": "-"
    }
   },
   "outputs": [
    {
     "data": {
      "text/html": [
       "<div>\n",
       "<style scoped>\n",
       "    .dataframe tbody tr th:only-of-type {\n",
       "        vertical-align: middle;\n",
       "    }\n",
       "\n",
       "    .dataframe tbody tr th {\n",
       "        vertical-align: top;\n",
       "    }\n",
       "\n",
       "    .dataframe thead th {\n",
       "        text-align: right;\n",
       "    }\n",
       "</style>\n",
       "<table border=\"1\" class=\"dataframe\">\n",
       "  <thead>\n",
       "    <tr style=\"text-align: right;\">\n",
       "      <th></th>\n",
       "      <th>stazioni</th>\n",
       "      <th>tp</th>\n",
       "      <th>ts</th>\n",
       "      <th>ts_tp</th>\n",
       "      <th>distance</th>\n",
       "    </tr>\n",
       "  </thead>\n",
       "  <tbody>\n",
       "    <tr>\n",
       "      <th>0</th>\n",
       "      <td>NRCA</td>\n",
       "      <td>98.7</td>\n",
       "      <td>105.2</td>\n",
       "      <td>6.5</td>\n",
       "      <td>37.357951</td>\n",
       "    </tr>\n",
       "    <tr>\n",
       "      <th>1</th>\n",
       "      <td>GUMA</td>\n",
       "      <td>103.0</td>\n",
       "      <td>112.7</td>\n",
       "      <td>9.7</td>\n",
       "      <td>61.007951</td>\n",
       "    </tr>\n",
       "    <tr>\n",
       "      <th>2</th>\n",
       "      <td>TERO</td>\n",
       "      <td>96.4</td>\n",
       "      <td>100.6</td>\n",
       "      <td>4.2</td>\n",
       "      <td>24.707951</td>\n",
       "    </tr>\n",
       "    <tr>\n",
       "      <th>3</th>\n",
       "      <td>PTQR</td>\n",
       "      <td>98.4</td>\n",
       "      <td>103.0</td>\n",
       "      <td>4.6</td>\n",
       "      <td>35.707951</td>\n",
       "    </tr>\n",
       "  </tbody>\n",
       "</table>\n",
       "</div>"
      ],
      "text/plain": [
       "  stazioni     tp     ts  ts_tp   distance\n",
       "0     NRCA   98.7  105.2    6.5  37.357951\n",
       "1     GUMA  103.0  112.7    9.7  61.007951\n",
       "2     TERO   96.4  100.6    4.2  24.707951\n",
       "3     PTQR   98.4  103.0    4.6  35.707951"
      ]
     },
     "execution_count": 31,
     "metadata": {},
     "output_type": "execute_result"
    }
   ],
   "source": [
    "v = 5.5 #[km/s]\n",
    "\n",
    "D_NRCA = v*(data.tp[0]-t_0)\n",
    "\n",
    "data['distance'] = v*(data.tp-t_0)\n",
    "data"
   ]
  },
  {
   "cell_type": "markdown",
   "metadata": {
    "slideshow": {
     "slide_type": "slide"
    }
   },
   "source": [
    "Conoscendo le coordinate delle stazioni in lat e long"
   ]
  },
  {
   "cell_type": "code",
   "execution_count": 32,
   "metadata": {
    "slideshow": {
     "slide_type": "-"
    }
   },
   "outputs": [],
   "source": [
    "lat_NRCA, lon_NRCA = (42.83, 13.11)\n",
    "lat_TERO, lon_TERO = (42.62, 13.6)\n",
    "lat_PTQR, lon_PTQR = (42.02, 13.03)\n",
    "lat_GUMA, lon_GUMA = (43.06, 13.03)\n",
    "\n",
    "lat_sta = np.array([lat_NRCA, lat_TERO, lat_PTQR, lat_GUMA])\n",
    "lon_sta = np.array([lon_NRCA, lon_TERO, lon_PTQR, lon_GUMA])\n",
    "\n"
   ]
  },
  {
   "cell_type": "markdown",
   "metadata": {
    "slideshow": {
     "slide_type": "slide"
    }
   },
   "source": [
    "Si può pasare da lat e long a coordinate UTM "
   ]
  },
  {
   "cell_type": "code",
   "execution_count": 33,
   "metadata": {
    "slideshow": {
     "slide_type": "-"
    }
   },
   "outputs": [
    {
     "name": "stdout",
     "output_type": "stream",
     "text": [
      "[345523.02718352 385186.65885314 336896.9867287  339582.68147729]\n"
     ]
    }
   ],
   "source": [
    "utm33 = pyproj.Proj(proj='utm', zone=33, ellps='WGS84', preserve_units=True)\n",
    "\n",
    "utmx_sta, utmy_sta = utm33(lon_sta, lat_sta)\n",
    "\n",
    "print(utmx_sta)"
   ]
  },
  {
   "cell_type": "markdown",
   "metadata": {
    "slideshow": {
     "slide_type": "slide"
    }
   },
   "source": [
    "Hypocentro fornito dalla sala sismica INGV per confornto con la nostra localizzazione"
   ]
  },
  {
   "cell_type": "code",
   "execution_count": 34,
   "metadata": {
    "slideshow": {
     "slide_type": "-"
    }
   },
   "outputs": [],
   "source": [
    "lat_hyp = 13.31\n",
    "lon_hyp = 42.42\n",
    "\n",
    "utm_x_hypo, utm_y_hypo = utm33(lon_hyp, lat_hyp)"
   ]
  },
  {
   "cell_type": "markdown",
   "metadata": {
    "slideshow": {
     "slide_type": "slide"
    }
   },
   "source": [
    "Ora rappresentiamo la distanza della stazioni in pianta e la localizzazione dell'evento fornita dalla sala sismica INGV."
   ]
  },
  {
   "cell_type": "code",
   "execution_count": 44,
   "metadata": {
    "slideshow": {
     "slide_type": "-"
    }
   },
   "outputs": [
    {
     "data": {
      "text/plain": [
       "Text(0.5, 0, 'utmX (km)')"
      ]
     },
     "execution_count": 44,
     "metadata": {},
     "output_type": "execute_result"
    }
   ],
   "source": []
  },
  {
   "cell_type": "markdown",
   "metadata": {
    "slideshow": {
     "slide_type": "slide"
    }
   },
   "source": [
    "<p style='text-align: justify;'>Come si vede la distanza delle stazioni definisce una zona dove potrebbe cadere l'epicentro (area sottesa tra le circonferenze nera, rossa\n",
    "   e verde), ma allo stesso tempo si osservano delle incertezze nella localizzazione. P.es. l'epicentro calcolato dalla sala sismica INGV, con tecniche più sofisticate, non coincide con l'area di intersezione delle 3 ricronferenze, inoltre la stazione PTQR quasi non interseca alcuna circonferenza. Forse l'approssimazione di v = 5.5 km/s e costante è troppo grande.</p> "
   ]
  },
  {
   "cell_type": "markdown",
   "metadata": {
    "slideshow": {
     "slide_type": "slide"
    }
   },
   "source": [
    "Se non conosciamo il tempo di origine, possiamo localizzare l'evento utilizzando l'equazione sottostante (**Metodo 2**). "
   ]
  },
  {
   "cell_type": "markdown",
   "metadata": {
    "slideshow": {
     "slide_type": "-"
    }
   },
   "source": [
    "<p style='text-align: justify;'><img src=\"Fig2.png\" alt=\"Drawing\" style=\"float: right\" width=\"600\"><br> Nella relazione di destra, ts - tp (o come lo abbiamo definito noi precedentemente S-P) lo abbiamo già caratterizzato, e per un mezzo Poissoniano abbiamo che Vp/Vs = $\\sqrt{3}$. "
   ]
  },
  {
   "cell_type": "code",
   "execution_count": 45,
   "metadata": {
    "slideshow": {
     "slide_type": "subslide"
    }
   },
   "outputs": [
    {
     "data": {
      "text/plain": [
       "Text(0.5, 0, 'utmX (km)')"
      ]
     },
     "execution_count": 45,
     "metadata": {},
     "output_type": "execute_result"
    }
   ],
   "source": []
  },
  {
   "cell_type": "markdown",
   "metadata": {
    "slideshow": {
     "slide_type": "fragment"
    }
   },
   "source": [
    "<p style='text-align: justify;'>In questo caso si nota come la \"nostra localizzazione\" ben approssima quella della sala sismica. Anche in questo caso vi sono degli errori nella localizzazione che di solito devono essere definiti insieme ai parametri ipocentrali del terremoto. "
   ]
  },
  {
   "cell_type": "markdown",
   "metadata": {
    "slideshow": {
     "slide_type": "slide"
    }
   },
   "source": [
    "# <font color='blue'>Summary </font>"
   ]
  },
  {
   "cell_type": "markdown",
   "metadata": {
    "slideshow": {
     "slide_type": "-"
    }
   },
   "source": [
    "<font color='blue'>\n",
    "    \n",
    "Importati sismogrammi delle stazioni e, mediante i tempi di arrivo P ed S, ricostruito il diagramma di Wadati.\n",
    "\n",
    "Fatta la regressione lineare, fit = linregress(tp, S_P), ed individuato t<sub>0</sub>.</p>\n",
    "\n",
    "Distanza stazioni ipocentro mediante: Metodo 1) D = Vp * T<sub>p</sub>; Metodo 2) se non si conosce il tempo di origine, assumendo Vp/Vs = $\\sqrt{3}$\n",
    "\n",
    "Prima di calcolare la distanza delle stazioni abbiamo trasformato le coordinate (lon,lat) in km \n",
    "\n",
    "    import pyproj\n",
    "    utm33 = pyproj.Proj(proj='utm',zone=33, ellps='WGS84', preserve_units=False)\n"
   ]
  },
  {
   "cell_type": "code",
   "execution_count": null,
   "metadata": {},
   "outputs": [],
   "source": []
  }
 ],
 "metadata": {
  "celltoolbar": "Slideshow",
  "kernelspec": {
   "display_name": "Python 3 (ipykernel)",
   "language": "python",
   "name": "python3"
  },
  "language_info": {
   "codemirror_mode": {
    "name": "ipython",
    "version": 3
   },
   "file_extension": ".py",
   "mimetype": "text/x-python",
   "name": "python",
   "nbconvert_exporter": "python",
   "pygments_lexer": "ipython3",
   "version": "3.10.9"
  },
  "vscode": {
   "interpreter": {
    "hash": "bb1850bd06e5fd926e86f1c332b3fdb76cf3adfe4483d2f91dc6390d7142f4fb"
   }
  }
 },
 "nbformat": 4,
 "nbformat_minor": 4
}
