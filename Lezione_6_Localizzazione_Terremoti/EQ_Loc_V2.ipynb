{
 "cells": [
  {
   "cell_type": "markdown",
   "metadata": {
    "slideshow": {
     "slide_type": "slide"
    }
   },
   "source": [
    "# Earthquake location\n",
    "Earth Physics  \n",
    "Marco Scuderi  \n",
    "**Reminder**: all the scripts are available on [GitHub]('https://github.com/marcoscuderi/Earth-physics')\n",
    "\n",
    "The aim of this program is to analyze real seismograms from stations close by an earthquake to individuate the Hypocenter of the earthquake."
   ]
  },
  {
   "cell_type": "markdown",
   "metadata": {
    "slideshow": {
     "slide_type": "slide"
    }
   },
   "source": [
    "## Theoretical background "
   ]
  },
  {
   "cell_type": "markdown",
   "metadata": {
    "slideshow": {
     "slide_type": "slide"
    }
   },
   "source": [
    "**Problem set**: We need to find the **epicenter** of an earthquake (i.e. location)\n",
    "\n",
    "**What do we know**: we can record the waveform that propagates through the Erath at different stations that may or may not be close to the epicenter of the earthquae. From the **seismograms** we can individuate the time arrival of the **P and S waves** ($t_p$ and $t_s$). \n",
    "\n",
    "**What I do not know**: I need to calculate the **oring time** ($t_0$) of the earthquake. This is fundamental to calculate the **traveltime** of the waveform:  \n",
    "$T_p$ = $t_p-t_0$\n"
   ]
  },
  {
   "cell_type": "markdown",
   "metadata": {
    "slideshow": {
     "slide_type": "slide"
    }
   },
   "source": [
    "<div style=\"display: flex; flex-direction: row; align-items: center; justify-content: space-between;\">\n",
    "    <div style=\"flex: 1;\">\n",
    "\n",
    "**What tools we can use?**: we need to be clever in using the arrival time of the P and S waves to build the **Wadati diagram** to retrive the origin time. \n",
    "\n",
    "$t_s - t_p = t_p(\\frac{v_p}{v_s}-1)-t_0(\\frac{v_p}{v_s}-1)$  \n",
    "\n",
    "</div>\n",
    "    <div style=\"flex: 1; text-align: right;\">\n",
    "        <img src=\"Figure_2.png\" alt=\"Your Figure\" width=\"800\"/>\n",
    "    </div>\n",
    "</div>\n"
   ]
  },
  {
   "cell_type": "markdown",
   "metadata": {
    "slideshow": {
     "slide_type": "slide"
    }
   },
   "source": [
    "#### Now we know the origin time   $t_0$  \n",
    "This information allows us to calculate the **traveltime**: $T_p = t_p - t_0$  \n",
    "\n",
    "\n",
    "To find the location I can follow two paths:  \n",
    " \n",
    "- **first solution**  \n",
    "If I know the velocity of the medium I can calculate the **Distance** as follows: $D = V_p * T_p$ \n",
    "\n",
    "We can assume as constant velcoty v=5.5 [km/s] that is characteristic of the carbonates in the upper part of the crust in the appennines (8-10km depth) where seismogenic faults are present.  \n",
    "\n",
    "- **second solution**  \n",
    "If we do not know the origin time we can assume a $\\frac{v_p}{v_s} = \\sqrt{3}$.  In other words we assume a Poissonian medium. "
   ]
  },
  {
   "cell_type": "markdown",
   "metadata": {
    "slideshow": {
     "slide_type": "slide"
    }
   },
   "source": [
    "### Import the necessary packages   \n",
    "**note** you have to install pyproj  \n",
    "``` conda install pyproj```"
   ]
  },
  {
   "cell_type": "code",
   "execution_count": 1,
   "metadata": {
    "slideshow": {
     "slide_type": "-"
    }
   },
   "outputs": [
    {
     "name": "stderr",
     "output_type": "stream",
     "text": [
      "Warning: Ignoring XDG_SESSION_TYPE=wayland on Gnome. Use QT_QPA_PLATFORM=wayland to run on Wayland anyway.\n"
     ]
    }
   ],
   "source": [
    "import matplotlib.pyplot as plt\n",
    "import numpy as np\n",
    "import pandas as pd\n",
    "from scipy.stats import linregress\n",
    "import os\n",
    "\n",
    "%matplotlib qt"
   ]
  },
  {
   "cell_type": "markdown",
   "metadata": {
    "slideshow": {
     "slide_type": "slide"
    }
   },
   "source": [
    "### Step one - import the data\n",
    "In the excercise folder we have the data collected from the three components seismometers (i.e. x,y,z) at each station (GUMA, NRCA, PTQR and TERO).  \n",
    "**know your data** For each station we have a separate file for each component (E, N, Z) "
   ]
  },
  {
   "cell_type": "code",
   "execution_count": 2,
   "metadata": {
    "slideshow": {
     "slide_type": "-"
    }
   },
   "outputs": [],
   "source": [
    "path = os.getcwd()     # get the path for the Current Working Directory  \n",
    "staz=['NRCA','TERO','PTQR','GUMA'] # create a list of names for the stations\n",
    "comp=['.E.asc','.N.asc','.Z.asc'] # create a list of names for the three components East - North - Z"
   ]
  },
  {
   "cell_type": "code",
   "execution_count": 3,
   "metadata": {
    "slideshow": {
     "slide_type": "fragment"
    }
   },
   "outputs": [],
   "source": [
    "File_e=[];File_n=[];File_z=[] \n",
    "\n",
    "# per ogni stazione crea una lista con il path per le varie componenti\n",
    "for i in range(len(staz)):\n",
    "    File_e.append(os.path.join('%s/data'%path,staz[i]+comp[0]))\n",
    "    File_n.append(os.path.join('%s/data'%path,staz[i]+comp[1]))\n",
    "    File_z.append(os.path.join('%s/data'%path,staz[i]+comp[2])) "
   ]
  },
  {
   "cell_type": "code",
   "execution_count": 4,
   "metadata": {
    "slideshow": {
     "slide_type": "fragment"
    }
   },
   "outputs": [],
   "source": [
    "\n",
    "# crea un dizionaio di array dove mettere tutte le stazioni e componenti \n",
    "data = {}\n",
    "kk=0\n",
    "for i in zip(File_e,File_n,File_z):\n",
    "    data['%s_E'%staz[kk]] = np.loadtxt(i[0])\n",
    "    data['%s_N'%staz[kk]] = np.loadtxt(i[1])\n",
    "    data['%s_Z'%staz[kk]] = np.loadtxt(i[2])\n",
    "    kk+=1\n"
   ]
  },
  {
   "cell_type": "markdown",
   "metadata": {
    "slideshow": {
     "slide_type": "slide"
    }
   },
   "source": [
    "Now we can plot the waveforms from all the stations"
   ]
  },
  {
   "cell_type": "code",
   "execution_count": 5,
   "metadata": {
    "slideshow": {
     "slide_type": "-"
    }
   },
   "outputs": [
    {
     "name": "stderr",
     "output_type": "stream",
     "text": [
      "libGL error: MESA-LOADER: failed to open iris: /usr/lib/dri/iris_dri.so: cannot open shared object file: No such file or directory (search paths /usr/lib/x86_64-linux-gnu/dri:\\$${ORIGIN}/dri:/usr/lib/dri, suffix _dri)\n",
      "libGL error: failed to load driver: iris\n",
      "libGL error: MESA-LOADER: failed to open swrast: /usr/lib/dri/swrast_dri.so: cannot open shared object file: No such file or directory (search paths /usr/lib/x86_64-linux-gnu/dri:\\$${ORIGIN}/dri:/usr/lib/dri, suffix _dri)\n",
      "libGL error: failed to load driver: swrast\n"
     ]
    }
   ],
   "source": [
    "# for each station plot the three components\n",
    "for i in staz:\n",
    "    fig, axes = plt.subplots(nrows=3,figsize=(12,12),sharex=True)   #per condividere l'asse x nei 3 subplots\n",
    "    axes[0].plot(data['%s_E'%i][:,0],data['%s_E'%i][:,1],'r',label='Est component')\n",
    "    axes[0].set_ylabel('Counts')\n",
    "    axes[0].legend(loc='upper right')\n",
    "    \n",
    "    axes[1].plot(data['%s_N'%i][:,0],data['%s_N'%i][:,1],'r',label='North component')\n",
    "    axes[1].set_ylabel('Counts')\n",
    "    axes[1].legend(loc='upper right')\n",
    "    \n",
    "    axes[2].plot(data['%s_Z'%i][:,0],data['%s_Z'%i][:,1],'r',label='Vertical component')\n",
    "    axes[2].set_ylabel('Counts')\n",
    "    axes[2].set_xlabel('Time [s]')\n",
    "    axes[2].legend(loc='upper right')\n",
    "    \n",
    "    axes[0].set_xlim([0,150]) # applicato a tutti\n",
    "    axes[0].title.set_text(i)"
   ]
  },
  {
   "cell_type": "markdown",
   "metadata": {
    "slideshow": {
     "slide_type": "slide"
    }
   },
   "source": [
    "Now we can create variables to store the values of $t_p$ and $t_s$.  \n",
    "I can also calculate the $t_p-t_s$ difference for every station.\n",
    "- tp, ts \n",
    "- ts-tp"
   ]
  },
  {
   "cell_type": "code",
   "execution_count": 6,
   "metadata": {
    "slideshow": {
     "slide_type": "-"
    }
   },
   "outputs": [
    {
     "name": "stdout",
     "output_type": "stream",
     "text": [
      "6.409999999999997\n",
      "4.299999999999997\n",
      "6.280000000000001\n",
      "10.379999999999995\n"
     ]
    }
   ],
   "source": [
    "#stazione NRCA, prende i tempi di arrivo S e P ed S-P\n",
    "tp_1 = 98.76\n",
    "ts_1 = 105.17\n",
    "y1 = ts_1 - tp_1\n",
    "print(y1)\n",
    "#stazione TERO\n",
    "tp_2 = 96.42\n",
    "ts_2 = 100.72\n",
    "y2 = ts_2 - tp_2\n",
    "print(y2)\n",
    "#stazione PTQR\n",
    "tp_3 = 98.63\n",
    "ts_3 = 104.91\n",
    "y3 = ts_3 - tp_3\n",
    "print(y3)\n",
    "#stazione GUMA\n",
    "tp_4 = 102.84\n",
    "ts_4 = 113.22\n",
    "y4 = ts_4 - tp_4\n",
    "print(y4)"
   ]
  },
  {
   "cell_type": "markdown",
   "metadata": {
    "slideshow": {
     "slide_type": "slide"
    }
   },
   "source": [
    "To facilitate data manipulation I can create a pandas dataframe "
   ]
  },
  {
   "cell_type": "code",
   "execution_count": 7,
   "metadata": {
    "slideshow": {
     "slide_type": "-"
    }
   },
   "outputs": [
    {
     "data": {
      "text/html": [
       "<div>\n",
       "<style scoped>\n",
       "    .dataframe tbody tr th:only-of-type {\n",
       "        vertical-align: middle;\n",
       "    }\n",
       "\n",
       "    .dataframe tbody tr th {\n",
       "        vertical-align: top;\n",
       "    }\n",
       "\n",
       "    .dataframe thead th {\n",
       "        text-align: right;\n",
       "    }\n",
       "</style>\n",
       "<table border=\"1\" class=\"dataframe\">\n",
       "  <thead>\n",
       "    <tr style=\"text-align: right;\">\n",
       "      <th></th>\n",
       "      <th>Stazioni</th>\n",
       "      <th>tp</th>\n",
       "      <th>ts</th>\n",
       "      <th>ts_tp</th>\n",
       "    </tr>\n",
       "  </thead>\n",
       "  <tbody>\n",
       "    <tr>\n",
       "      <th>0</th>\n",
       "      <td>NRCA</td>\n",
       "      <td>98.76</td>\n",
       "      <td>105.17</td>\n",
       "      <td>6.41</td>\n",
       "    </tr>\n",
       "    <tr>\n",
       "      <th>1</th>\n",
       "      <td>TERO</td>\n",
       "      <td>96.42</td>\n",
       "      <td>100.72</td>\n",
       "      <td>4.30</td>\n",
       "    </tr>\n",
       "    <tr>\n",
       "      <th>2</th>\n",
       "      <td>PTQR</td>\n",
       "      <td>98.63</td>\n",
       "      <td>104.91</td>\n",
       "      <td>6.28</td>\n",
       "    </tr>\n",
       "    <tr>\n",
       "      <th>3</th>\n",
       "      <td>GUMA</td>\n",
       "      <td>102.84</td>\n",
       "      <td>113.22</td>\n",
       "      <td>10.38</td>\n",
       "    </tr>\n",
       "  </tbody>\n",
       "</table>\n",
       "</div>"
      ],
      "text/plain": [
       "  Stazioni      tp      ts  ts_tp\n",
       "0     NRCA   98.76  105.17   6.41\n",
       "1     TERO   96.42  100.72   4.30\n",
       "2     PTQR   98.63  104.91   6.28\n",
       "3     GUMA  102.84  113.22  10.38"
      ]
     },
     "execution_count": 7,
     "metadata": {},
     "output_type": "execute_result"
    }
   ],
   "source": [
    "data = {'Stazioni':['NRCA','TERO','PTQR','GUMA'],\n",
    "        'tp':[tp_1,tp_2, tp_3,tp_4],\n",
    "        'ts':[ts_1,ts_2, ts_3,ts_4],\n",
    "        'ts_tp':[y1,y2,y3,y4]\n",
    "       }\n",
    "\n",
    "df = pd.DataFrame(data)\n",
    "df"
   ]
  },
  {
   "cell_type": "markdown",
   "metadata": {
    "slideshow": {
     "slide_type": "slide"
    }
   },
   "source": [
    "Now we are ready to visualize the data"
   ]
  },
  {
   "cell_type": "code",
   "execution_count": 8,
   "metadata": {
    "slideshow": {
     "slide_type": "-"
    }
   },
   "outputs": [
    {
     "data": {
      "text/plain": [
       "Text(0.5, 1.0, '\"Nostro\" diagramma di Wadati ')"
      ]
     },
     "execution_count": 8,
     "metadata": {},
     "output_type": "execute_result"
    },
    {
     "data": {
      "image/png": "[encoded data removed]",
      "text/plain": [
       "<Figure size 640x480 with 1 Axes>"
      ]
     },
     "metadata": {},
     "output_type": "display_data"
    }
   ],
   "source": [
    "%matplotlib inline\n",
    "fig=plt.figure()\n",
    "plt.scatter(df.tp,df.ts_tp)\n",
    "plt.xlabel('tp')\n",
    "plt.ylabel('ts_tp')\n",
    "plt.title('\"Nostro\" diagramma di Wadati ')"
   ]
  },
  {
   "cell_type": "markdown",
   "metadata": {
    "slideshow": {
     "slide_type": "slide"
    }
   },
   "source": [
    "To calculate the origin time we need to perform a linear fit to the data and calculate the intercept for y=0"
   ]
  },
  {
   "cell_type": "code",
   "execution_count": 9,
   "metadata": {
    "slideshow": {
     "slide_type": "-"
    }
   },
   "outputs": [
    {
     "name": "stdout",
     "output_type": "stream",
     "text": [
      "LinregressResult(slope=0.951826065713936, intercept=-87.54295224135818, rvalue=0.9997041519533606, pvalue=0.00029584804663940206, stderr=0.016375264640660223, intercept_stderr=1.6242557330717662)\n",
      "91.97368657444241\n"
     ]
    }
   ],
   "source": [
    "fit = linregress(df.tp,df.ts_tp)\n",
    "t_0 = - fit[1]/fit[0]      # per y = 0 otteniamo il nostro x che definisce t_0\n",
    "\n",
    "print(fit)\n",
    "print(t_0)\n",
    "#fit[0] è il coefficiente angolare\n",
    "#fit[1] è l'intercetta"
   ]
  },
  {
   "cell_type": "markdown",
   "metadata": {
    "slideshow": {
     "slide_type": "slide"
    }
   },
   "source": [
    "Now we can plot all together"
   ]
  },
  {
   "cell_type": "code",
   "execution_count": 10,
   "metadata": {
    "slideshow": {
     "slide_type": "-"
    }
   },
   "outputs": [
    {
     "data": {
      "image/png": "[encoded data removed]",
      "text/plain": [
       "<Figure size 640x480 with 1 Axes>"
      ]
     },
     "metadata": {},
     "output_type": "display_data"
    }
   ],
   "source": [
    "x = np.linspace(90,104)\n",
    "y = fit[0]*x + fit[1]      # la regressione lineare è una retta con m = fit[0] e q = fit[1]\n",
    "\n",
    "fig=plt.figure()\n",
    "plt.plot(x,y, c = 'r', linestyle='dashed', label = fit)\n",
    "plt.scatter(df.tp,df.ts_tp)\n",
    "plt.scatter(t_0,0, color='m',s=50, marker='D')\n",
    "plt.xlabel('P wave arrival time $t_p$ [s]', fontsize=14)\n",
    "plt.ylabel('$t_s-t_p$ Traveltime [s]', fontsize=14)\n",
    "plt.axhline(y=0, color='k', linestyle='-')\n",
    "plt.text(91.2, 1, '%.2f'%t_0, fontsize=12)\n",
    "plt.tight_layout()"
   ]
  },
  {
   "cell_type": "markdown",
   "metadata": {
    "slideshow": {
     "slide_type": "slide"
    }
   },
   "source": [
    "Ora stimiamo le distanze dalle varie stazioni e quindi stimiamo la nostra localizzazione partendo dai dati ottenuti dal diagramma di Wadati: \n",
    "\n",
    "**Metodo 1: D = Vp * T<sub>p</sub>**. "
   ]
  },
  {
   "cell_type": "code",
   "execution_count": 11,
   "metadata": {
    "slideshow": {
     "slide_type": "-"
    }
   },
   "outputs": [
    {
     "name": "stdout",
     "output_type": "stream",
     "text": [
      "59.76472384056676\n"
     ]
    }
   ],
   "source": [
    "v = 5.500 #velocità carbonati km/s\n",
    "\n",
    "dNRCA = v*(df.tp[0] - t_0)  #distanze stazione-terremoto in km\n",
    "dTERO = v*(df.tp[1] - t_0)\n",
    "dPTQR = v*(df.tp[2] - t_0)\n",
    "dGUMA = v*(df.tp[3] - t_0)\n",
    "Dsp = (dNRCA,dTERO,dPTQR,dGUMA)\n",
    "print(dGUMA)"
   ]
  },
  {
   "cell_type": "markdown",
   "metadata": {
    "slideshow": {
     "slide_type": "slide"
    }
   },
   "source": [
    "Conoscendo le coordinate delle stazioni in lat e long"
   ]
  },
  {
   "cell_type": "code",
   "execution_count": 12,
   "metadata": {
    "slideshow": {
     "slide_type": "-"
    }
   },
   "outputs": [],
   "source": [
    "lat_NRCA,lon_NRCA = (42.83355,13.11427)\n",
    "lat_TERO,lon_TERO = (42.62279,13.60393)\n",
    "lat_PTQR,lon_PTQR = (42.02193,13.40057)\n",
    "lat_GUMA,lon_GUMA = (43.0627,13.03352)\n",
    "\n",
    "#creiamo un array con le coordinate lat e lon delle 4 stazioni\n",
    "lat_sta=np.array([lat_NRCA,lat_TERO,lat_PTQR,lat_GUMA])\n",
    "lon_sta=np.array([lon_NRCA,lon_TERO,lon_PTQR,lon_GUMA])"
   ]
  },
  {
   "cell_type": "markdown",
   "metadata": {
    "slideshow": {
     "slide_type": "slide"
    }
   },
   "source": [
    "Si può pasare da lat e long a coordinate UTM "
   ]
  },
  {
   "cell_type": "code",
   "execution_count": 13,
   "metadata": {
    "slideshow": {
     "slide_type": "-"
    }
   },
   "outputs": [
    {
     "name": "stdout",
     "output_type": "stream",
     "text": [
      "[345880.86460412 385514.07447036 367582.68452284 339876.35266423]\n",
      "[4744055.68988415 4719872.25367242 4653448.49926017 4769654.1705878 ]\n"
     ]
    }
   ],
   "source": [
    "#https://it.wikipedia.org/wiki/Proiezione_universale_trasversa_di_Mercatore\n",
    "import pyproj\n",
    "utm33 = pyproj.Proj(proj='utm',zone=33, ellps='WGS84', preserve_units=False)\n",
    "\n",
    "utmx_sta,utmy_sta=utm33(lon_sta,lat_sta)\n",
    "print(utmx_sta)    #coordinate x delle stazioni in UTM\n",
    "print(utmy_sta)    #coordinate y delle stazioni in UTM"
   ]
  },
  {
   "cell_type": "markdown",
   "metadata": {
    "slideshow": {
     "slide_type": "slide"
    }
   },
   "source": [
    "Hypocentro fornito dalla sala sismica INGV per confornto con la nostra localizzazione"
   ]
  },
  {
   "cell_type": "code",
   "execution_count": 14,
   "metadata": {
    "slideshow": {
     "slide_type": "-"
    }
   },
   "outputs": [],
   "source": [
    "lon_hypo=13.31\n",
    "lat_hypo=42.42\n",
    "utmx_hypo,utmy_hypo=utm33(lon_hypo,lat_hypo) #trasforma coordinate hypo in utm"
   ]
  },
  {
   "cell_type": "markdown",
   "metadata": {
    "slideshow": {
     "slide_type": "slide"
    }
   },
   "source": [
    "Ora rappresentiamo la distanza della stazioni in pianta e la localizzazione dell'evento fornita dalla sala sismica INGV."
   ]
  },
  {
   "cell_type": "code",
   "execution_count": 15,
   "metadata": {
    "slideshow": {
     "slide_type": "-"
    }
   },
   "outputs": [
    {
     "data": {
      "text/plain": [
       "Text(0.5, 0, 'utmX (km)')"
      ]
     },
     "execution_count": 15,
     "metadata": {},
     "output_type": "execute_result"
    }
   ],
   "source": [
    "%matplotlib qt\n",
    "#stazione NRCA ovvero stazione [0]\n",
    "fig, ax = plt.subplots(figsize=(10,10))\n",
    "circle0=plt.Circle((utmx_sta[0]/1000,utmy_sta[0]/1000),dNRCA, fill=False)\n",
    "circle0._set_edgecolor('r')\n",
    "ax.add_artist(circle0)\n",
    "ax.scatter(utmx_sta[0]/1000,utmy_sta[0]/1000)\n",
    "ax.text(utmx_sta[0]/1000,utmy_sta[0]/1000,staz[0],size=18,ha='right', va='bottom')\n",
    "\n",
    "#stazione TERO ovvero stazione [1]\n",
    "circle1=plt.Circle((utmx_sta[1]/1000,utmy_sta[1]/1000),dTERO, fill=False)\n",
    "circle1._set_edgecolor('k')\n",
    "ax.add_artist(circle1)\n",
    "ax.scatter(utmx_sta[1]/1000,utmy_sta[1]/1000)\n",
    "ax.text(utmx_sta[1]/1000,utmy_sta[1]/1000,staz[1],size=18,ha='right', va='bottom')\n",
    "\n",
    "#stazione PTQR ovvero stazione [2]\n",
    "circle2=plt.Circle((utmx_sta[2]/1000,utmy_sta[2]/1000),dPTQR, fill=False)\n",
    "circle2._set_edgecolor('m')\n",
    "ax.add_artist(circle2)\n",
    "ax.scatter(utmx_sta[2]/1000,utmy_sta[2]/1000)\n",
    "ax.text(utmx_sta[2]/1000,utmy_sta[2]/1000,staz[2],size=18,ha='right', va='bottom')\n",
    "\n",
    "#stazione GUMA ovvero stazione [3]\n",
    "circle3=plt.Circle((utmx_sta[3]/1000,utmy_sta[3]/1000),dGUMA, fill=False)\n",
    "circle3._set_edgecolor('g')\n",
    "ax.add_artist(circle3)\n",
    "ax.scatter(utmx_sta[3]/1000,utmy_sta[3]/1000)\n",
    "ax.text(utmx_sta[3]/1000,utmy_sta[3]/1000,staz[3],size=18,ha='right', va='bottom')\n",
    "\n",
    "#ipocentro da sala sismica INGV\n",
    "ax.scatter(utmx_hypo/1000,utmy_hypo/1000,s=200, c='r', marker='*')\n",
    "\n",
    "ax.grid(color='k', linestyle='--', linewidth=0.5)\n",
    "plt.xlim(200,500)\n",
    "plt.ylim(4600,4900)\n",
    "plt.ylabel('utmY (km)')\n",
    "plt.xlabel('utmX (km)')"
   ]
  },
  {
   "cell_type": "markdown",
   "metadata": {
    "slideshow": {
     "slide_type": "slide"
    }
   },
   "source": [
    "<p style='text-align: justify;'>Come si vede la distanza delle stazioni definisce una zona dove potrebbe cadere l'epicentro (area sottesa tra le circonferenze nera, rossa\n",
    "   e verde), ma allo stesso tempo si osservano delle incertezze nella localizzazione. P.es. l'epicentro calcolato dalla sala sismica INGV, con tecniche più sofisticate, non coincide con l'area di intersezione delle 3 ricronferenze, inoltre la stazione PTQR quasi non interseca alcuna circonferenza. Forse l'approssimazione di v = 5.5 km/s e costante è troppo grande.</p> "
   ]
  },
  {
   "cell_type": "markdown",
   "metadata": {
    "slideshow": {
     "slide_type": "slide"
    }
   },
   "source": [
    "Se non conosciamo il tempo di origine, possiamo localizzare l'evento utilizzando l'equazione sottostante (**Metodo 2**). "
   ]
  },
  {
   "cell_type": "markdown",
   "metadata": {
    "slideshow": {
     "slide_type": "-"
    }
   },
   "source": [
    "<p style='text-align: justify;'><img src=\"Fig2.png\" alt=\"Drawing\" style=\"float: right\" width=\"600\"><br> Nella relazione di destra, ts - tp (o come lo abbiamo definito noi precedentemente S-P) lo abbiamo già caratterizzato, e per un mezzo Poissoniano abbiamo che Vp/Vs = $\\sqrt{3}$. "
   ]
  },
  {
   "cell_type": "code",
   "execution_count": 16,
   "metadata": {
    "slideshow": {
     "slide_type": "subslide"
    }
   },
   "outputs": [
    {
     "data": {
      "text/plain": [
       "Text(0.5, 0, 'utmX (km)')"
      ]
     },
     "execution_count": 16,
     "metadata": {},
     "output_type": "execute_result"
    }
   ],
   "source": [
    "v = 5.500 #velocità carbonati km/s\n",
    "Dsp_1=v/(np.sqrt(3)-1)*df.ts_tp\n",
    "\n",
    "#OSS il plot che vado a ricostruire è simile al preccedente MA cambia solo la distanza delle stazioni in quanto \n",
    "# stimata con la relazione riportata sopra. Quindi cambia solo Dsp_1.\n",
    "#stazione NRCA ovvero stazione [0]\n",
    "fig, ax = plt.subplots(figsize=(10,10))\n",
    "circle0=plt.Circle((utmx_sta[0]/1000,utmy_sta[0]/1000),Dsp_1[0], fill=False)\n",
    "circle0._set_edgecolor('r')\n",
    "ax.add_artist(circle0)\n",
    "ax.scatter(utmx_sta[0]/1000,utmy_sta[0]/1000)\n",
    "ax.text(utmx_sta[0]/1000,utmy_sta[0]/1000,staz[0],size=18,ha='right', va='bottom')\n",
    "\n",
    "#stazione TERO ovvero stazione [1]\n",
    "circle1=plt.Circle((utmx_sta[1]/1000,utmy_sta[1]/1000),Dsp_1[1], fill=False)\n",
    "circle1._set_edgecolor('k')\n",
    "ax.add_artist(circle1)\n",
    "ax.scatter(utmx_sta[1]/1000,utmy_sta[1]/1000)\n",
    "ax.text(utmx_sta[1]/1000,utmy_sta[1]/1000,staz[1],size=18,ha='right', va='bottom')\n",
    "\n",
    "#stazione PTQR ovvero stazione [2]\n",
    "circle2=plt.Circle((utmx_sta[2]/1000,utmy_sta[2]/1000),Dsp_1[2], fill=False)\n",
    "circle2._set_edgecolor('m')\n",
    "ax.add_artist(circle2)\n",
    "ax.scatter(utmx_sta[2]/1000,utmy_sta[2]/1000)\n",
    "ax.text(utmx_sta[2]/1000,utmy_sta[2]/1000,staz[2],size=18,ha='right', va='bottom')\n",
    "\n",
    "#stazione GUMA ovvero stazione [3]\n",
    "circle3=plt.Circle((utmx_sta[3]/1000,utmy_sta[3]/1000),Dsp_1[3], fill=False)\n",
    "circle3._set_edgecolor('g')\n",
    "ax.add_artist(circle3)\n",
    "ax.scatter(utmx_sta[3]/1000,utmy_sta[3]/1000)\n",
    "ax.text(utmx_sta[3]/1000,utmy_sta[3]/1000,staz[3],size=18,ha='right', va='bottom')\n",
    "\n",
    "#ipocentro da sala sismica INGV\n",
    "ax.scatter(utmx_hypo/1000,utmy_hypo/1000,s=200, c='r', marker='*')\n",
    "\n",
    "ax.grid(color='k', linestyle='--', linewidth=0.5)\n",
    "plt.xlim(200,500)\n",
    "plt.ylim(4600,4900)\n",
    "plt.ylabel('utmY (km)')\n",
    "plt.xlabel('utmX (km)')"
   ]
  },
  {
   "cell_type": "markdown",
   "metadata": {
    "slideshow": {
     "slide_type": "fragment"
    }
   },
   "source": [
    "<p style='text-align: justify;'>In questo caso si nota come la \"nostra localizzazione\" ben approssima quella della sala sismica. Anche in questo caso vi sono degli errori nella localizzazione che di solito devono essere definiti insieme ai parametri ipocentrali del terremoto. "
   ]
  },
  {
   "cell_type": "markdown",
   "metadata": {
    "slideshow": {
     "slide_type": "slide"
    }
   },
   "source": [
    "# <font color='blue'>Summary </font>"
   ]
  },
  {
   "cell_type": "markdown",
   "metadata": {
    "slideshow": {
     "slide_type": "-"
    }
   },
   "source": [
    "<font color='blue'>\n",
    "    \n",
    "Importati sismogrammi delle stazioni e, mediante i tempi di arrivo P ed S, ricostruito il diagramma di Wadati.\n",
    "\n",
    "Fatta la regressione lineare, fit = linregress(tp, S_P), ed individuato t<sub>0</sub>.</p>\n",
    "\n",
    "Distanza stazioni ipocentro mediante: Metodo 1) D = Vp * T<sub>p</sub>; Metodo 2) se non si conosce il tempo di origine, assumendo Vp/Vs = $\\sqrt{3}$\n",
    "\n",
    "Prima di calcolare la distanza delle stazioni abbiamo trasformato le coordinate (lon,lat) in km \n",
    "\n",
    "    import pyproj\n",
    "    utm33 = pyproj.Proj(proj='utm',zone=33, ellps='WGS84', preserve_units=False)\n"
   ]
  },
  {
   "cell_type": "code",
   "execution_count": null,
   "metadata": {},
   "outputs": [],
   "source": []
  }
 ],
 "metadata": {
  "celltoolbar": "Slideshow",
  "kernelspec": {
   "display_name": "Python 3 (ipykernel)",
   "language": "python",
   "name": "python3"
  },
  "language_info": {
   "codemirror_mode": {
    "name": "ipython",
    "version": 3
   },
   "file_extension": ".py",
   "mimetype": "text/x-python",
   "name": "python",
   "nbconvert_exporter": "python",
   "pygments_lexer": "ipython3",
   "version": "3.10.9"
  },
  "vscode": {
   "interpreter": {
    "hash": "bb1850bd06e5fd926e86f1c332b3fdb76cf3adfe4483d2f91dc6390d7142f4fb"
   }
  }
 },
 "nbformat": 4,
 "nbformat_minor": 4
}
