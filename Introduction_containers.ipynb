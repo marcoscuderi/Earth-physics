{
 "cells": [
  {
   "cell_type": "markdown",
   "id": "f6ffa3a6-9d76-42d9-8ce9-966413f2faaa",
   "metadata": {
    "slideshow": {
     "slide_type": "slide"
    }
   },
   "source": [
    "# Containers   \n",
    "Fisica Terrestre  \n",
    "7/10/2022  \n",
    "Marco Scuderi"
   ]
  },
  {
   "cell_type": "markdown",
   "id": "45e9731d-5e1b-4d6f-a958-2b3f4c640272",
   "metadata": {
    "slideshow": {
     "slide_type": "fragment"
    }
   },
   "source": [
    "To perform computation with data we need some containers to put them and then be able to perform manipulation and analysis.  \n",
    "Understand what is the **best container** for your data and your analysis is fundamental to obtain the best result and reduce computational time.   \n",
    "There are many differnt types of containers:  \n",
    "- Lists  \n",
    "- Dictionaries  \n",
    "- Pandas Series/DataFrame  \n",
    "- Array  \n",
    "- Rec Array  \n",
    "- And many others ... "
   ]
  },
  {
   "cell_type": "markdown",
   "id": "9c7275ea-3aa4-4fcf-b786-a08f2d98e144",
   "metadata": {
    "slideshow": {
     "slide_type": "slide"
    }
   },
   "source": [
    "### But what is the basic concept behind a container?  \n",
    "They are a sequence of ordered items.  "
   ]
  },
  {
   "cell_type": "markdown",
   "id": "21893a1a-1a0c-480c-b371-bcf200a99a71",
   "metadata": {
    "slideshow": {
     "slide_type": "fragment"
    }
   },
   "source": [
    "### Lists  \n",
    "Lists in Python are one-dimensional, ordered containers whose elements may be any Python objects. Lists are mutable and have methods for adding and removing elements to and from themselves.  \n",
    "You can think of them as a box where you can put whatever you want to collect.  \n",
    "**In Python, unlike in other languages, the elements of a list do not have to match other\n",
    "in type.**"
   ]
  },
  {
   "cell_type": "markdown",
   "id": "49683ecc-8e44-4449-9016-a9f2ce815c55",
   "metadata": {
    "slideshow": {
     "slide_type": "slide"
    }
   },
   "source": [
    "Let's look at some examples:"
   ]
  },
  {
   "cell_type": "code",
   "execution_count": null,
   "id": "bbb0044f-1fef-49c4-a9a2-ac68a7f25edf",
   "metadata": {
    "slideshow": {
     "slide_type": "-"
    }
   },
   "outputs": [],
   "source": [
    "my_list = [1,2,3] # this list has three items\n",
    "print(type(my_list))\n",
    "empty_list = []                                              # this list has no items\n",
    "mixed_list = [-0.2, 300, 'a string', 5.3, True, my_list]     # this list has four items of different types, one is another list\n",
    "\n",
    "print(mixed_list)"
   ]
  },
  {
   "cell_type": "markdown",
   "id": "811f8d4e-ed84-42d3-b488-7c1341255526",
   "metadata": {
    "slideshow": {
     "slide_type": "-"
    }
   },
   "source": [
    "Note, **lists** use square brackets [] whereas **functions** use round brackets () - ***syntax!***"
   ]
  },
  {
   "cell_type": "markdown",
   "id": "788d04ae-c945-4b5a-be52-4363acb90fc4",
   "metadata": {
    "slideshow": {
     "slide_type": "slide"
    }
   },
   "source": [
    "#### List **INDEXING**  \n",
    "We can **access** the items of a list by passing an **index** to the variable name. The indices begin at 0 (the first item in a list) and increment by 1. For example:"
   ]
  },
  {
   "cell_type": "code",
   "execution_count": null,
   "id": "67735762-a0fc-4b77-8b07-22cc06c35473",
   "metadata": {
    "slideshow": {
     "slide_type": "-"
    }
   },
   "outputs": [],
   "source": [
    "my_list = [1,2,3]  \n",
    "print(my_list[2])\n",
    "# sum two lists \n",
    "print(my_list[1]+my_list[2])\n",
    "var1 = 2\n",
    "var2 = 3\n",
    "print(var1+var2)"
   ]
  },
  {
   "cell_type": "code",
   "execution_count": null,
   "id": "6aad879b-89c1-43ba-959b-e35af5dc380a",
   "metadata": {
    "slideshow": {
     "slide_type": "-"
    }
   },
   "outputs": [],
   "source": [
    "# let's look at some indexing\n",
    "print(my_list[2], my_list[-1])                 # these access the same element of the list\n",
    "print(my_list[1], my_list[-2])                 # so do these\n",
    "print(my_list[-0])"
   ]
  },
  {
   "cell_type": "markdown",
   "id": "fb5822d3",
   "metadata": {
    "slideshow": {
     "slide_type": "slide"
    }
   },
   "source": [
    "Some more examples"
   ]
  },
  {
   "cell_type": "code",
   "execution_count": null,
   "id": "f5183bc1-31af-4b25-a144-2dd616c9e6b7",
   "metadata": {
    "slideshow": {
     "slide_type": "-"
    }
   },
   "outputs": [],
   "source": [
    "print(mixed_list)\n",
    "print(mixed_list[1:5])                         # all items between index 1 and 3 NOT including 3\n",
    "print(mixed_list[:3])                          # all items from the START of the list up to index 3 NOT including 3\n",
    "print(mixed_list[3:])                          # all items from index 3 up to the END of the list"
   ]
  },
  {
   "cell_type": "code",
   "execution_count": null,
   "id": "cfb7b3d3-fec8-4ed8-b484-36a165fb6ee4",
   "metadata": {
    "slideshow": {
     "slide_type": "skip"
    }
   },
   "outputs": [],
   "source": [
    "# revert the list \n",
    "print(mixed_list[::-1])"
   ]
  },
  {
   "cell_type": "markdown",
   "id": "2da1c7fa-aec4-4919-b04f-d21d923bb0e8",
   "metadata": {
    "slideshow": {
     "slide_type": "slide"
    }
   },
   "source": [
    "Is there anything you notice when performing indexing?   \n",
    "\n",
    "In other words, what elements would you expect by running the cell below?"
   ]
  },
  {
   "cell_type": "code",
   "execution_count": null,
   "id": "bc89fe19-5ca7-4229-a2d8-2442b7e22ce6",
   "metadata": {
    "slideshow": {
     "slide_type": "-"
    }
   },
   "outputs": [],
   "source": [
    "print (mixed_list[0:1])"
   ]
  },
  {
   "cell_type": "markdown",
   "id": "30ff555c-9ed3-4cad-a0e6-13bcd76e0686",
   "metadata": {
    "slideshow": {
     "slide_type": "slide"
    }
   },
   "source": [
    "In Python indices are not referred to elements, but in between them !!\n"
   ]
  },
  {
   "cell_type": "code",
   "execution_count": null,
   "id": "6183b672-f577-4579-8c2b-4cc3bb09cdd5",
   "metadata": {
    "slideshow": {
     "slide_type": "-"
    }
   },
   "outputs": [],
   "source": [
    "a = [1,2,3,4,5]\n",
    "a[:]"
   ]
  },
  {
   "cell_type": "markdown",
   "id": "001fc651-6ac2-4ebb-9d8e-a45ab2e742d2",
   "metadata": {
    "slideshow": {
     "slide_type": "slide"
    }
   },
   "source": [
    "#### Some basic properties and methods of Lists "
   ]
  },
  {
   "cell_type": "markdown",
   "id": "b0c602f9-e858-458c-9cec-f7e054945385",
   "metadata": {
    "slideshow": {
     "slide_type": "-"
    }
   },
   "source": [
    "You can **concatenate** two lists together using the addition operator (+) to form a longer list:"
   ]
  },
  {
   "cell_type": "code",
   "execution_count": null,
   "id": "0611e992-bb61-4d59-b39a-b4782fb69f3b",
   "metadata": {
    "jupyter": {
     "outputs_hidden": true
    },
    "slideshow": {
     "slide_type": "-"
    }
   },
   "outputs": [],
   "source": [
    "list1 = [1, 1]\n",
    "list2 = [2, 3, 5]\n",
    "tot = list1+list2\n",
    "print(tot)\n",
    "\n",
    "[1, 1] + [2, 3, 5] + [8]"
   ]
  },
  {
   "cell_type": "markdown",
   "id": "fd468a0c-fd22-4987-86d4-3c8798aaccbc",
   "metadata": {
    "slideshow": {
     "slide_type": "slide"
    }
   },
   "source": [
    "You can also **append** to lists in-place using the append() method, which adds a single\n",
    "element to the end:"
   ]
  },
  {
   "cell_type": "code",
   "execution_count": null,
   "id": "1b969113-78d9-4af2-ab5c-6e729cf9744d",
   "metadata": {
    "slideshow": {
     "slide_type": "-"
    }
   },
   "outputs": [],
   "source": [
    "# define a list \n",
    "fib = [1, 1, 2, 3, 5, 8]\n",
    "fib"
   ]
  },
  {
   "cell_type": "code",
   "execution_count": null,
   "id": "c8d62123-ca1a-4765-aee2-01d8f3618f0a",
   "metadata": {
    "slideshow": {
     "slide_type": "-"
    }
   },
   "outputs": [],
   "source": [
    "# append an element\n",
    "pippo = [100,101,102]\n",
    "fib.append(pippo)\n",
    "fib"
   ]
  },
  {
   "cell_type": "markdown",
   "id": "42ab3f51-276c-496c-b8f2-74d89e4d36d9",
   "metadata": {
    "slideshow": {
     "slide_type": "slide"
    }
   },
   "source": [
    "You can **insert an element**"
   ]
  },
  {
   "cell_type": "code",
   "execution_count": null,
   "id": "f42b3f02-e47e-47bf-8cbc-e76514000c55",
   "metadata": {
    "slideshow": {
     "slide_type": "-"
    }
   },
   "outputs": [],
   "source": [
    "# insert element\n",
    "fib.insert(1,'foo')\n",
    "fib"
   ]
  },
  {
   "cell_type": "markdown",
   "id": "52c5b72a-5fa5-47c6-be04-9b5a304bd23d",
   "metadata": {
    "slideshow": {
     "slide_type": "slide"
    }
   },
   "source": [
    "Or **Eliminate elements**"
   ]
  },
  {
   "cell_type": "code",
   "execution_count": null,
   "id": "a6bef537-f671-4081-803d-f71975b61a66",
   "metadata": {
    "slideshow": {
     "slide_type": "-"
    }
   },
   "outputs": [],
   "source": [
    "# eliminate elements \n",
    "fib.pop(-1)\n",
    "fib"
   ]
  },
  {
   "cell_type": "markdown",
   "id": "ce5621f6-738f-4924-9be9-ea9175bd12a7",
   "metadata": {
    "slideshow": {
     "slide_type": "slide"
    }
   },
   "source": [
    "Or check if an elemnt is in the list "
   ]
  },
  {
   "cell_type": "code",
   "execution_count": null,
   "id": "1e8a41f7-3d93-472e-a700-977fbb549a8e",
   "metadata": {
    "slideshow": {
     "slide_type": "-"
    }
   },
   "outputs": [],
   "source": [
    "# check if an element is in the list \n",
    "'foo' in fib"
   ]
  },
  {
   "cell_type": "markdown",
   "id": "d2119074-d1c6-4c68-8fbd-a74c1fd81ebc",
   "metadata": {
    "slideshow": {
     "slide_type": "slide"
    }
   },
   "source": [
    "#### List sorting"
   ]
  },
  {
   "cell_type": "code",
   "execution_count": null,
   "id": "c49aad0d-655f-4917-a903-467bf6c2b352",
   "metadata": {
    "slideshow": {
     "slide_type": "-"
    }
   },
   "outputs": [],
   "source": [
    "pippo = [4,3,1,2,8,9]\n",
    "pippo.sort()\n",
    "pippo"
   ]
  },
  {
   "cell_type": "code",
   "execution_count": null,
   "id": "07aa9bbe-5c1b-40fb-bed8-722ed04a69b2",
   "metadata": {
    "slideshow": {
     "slide_type": "-"
    }
   },
   "outputs": [],
   "source": [
    "pluto = ['foo','thisislong','v']\n",
    "pluto.sort(key=len)\n",
    "pluto"
   ]
  },
  {
   "cell_type": "markdown",
   "id": "9d69326e-9bce-4605-a6a8-912db28d74fe",
   "metadata": {
    "slideshow": {
     "slide_type": "slide"
    }
   },
   "source": [
    "## Arrays  \n",
    "they are a **list of numbers** that have to be of the same type. Arrays have special properties that can greatly help us in data handling and scientific computing.   \n"
   ]
  },
  {
   "cell_type": "markdown",
   "id": "91d8a347-1d87-40e1-80b8-03b9b83241b7",
   "metadata": {
    "slideshow": {
     "slide_type": "-"
    }
   },
   "source": [
    "### Why numpy ? \n",
    "Let' say that I have two series of numbers and I want to add them together.  \n",
    "If I use two listst and add them together what will be the result?"
   ]
  },
  {
   "cell_type": "code",
   "execution_count": null,
   "id": "dd727fe4-2972-435f-8c66-7e438097ca71",
   "metadata": {
    "jupyter": {
     "outputs_hidden": true
    },
    "slideshow": {
     "slide_type": "-"
    }
   },
   "outputs": [],
   "source": [
    "a = [1,2,3]\n",
    "b = [4,5,6]\n",
    "print (a+b)\n",
    "results=[]\n",
    "print ('This is wrong')\n",
    "for i, j in zip(a,b):\n",
    "    results.append(i+j)\n",
    "print(results)"
   ]
  },
  {
   "cell_type": "markdown",
   "id": "f3d4ec47-d16b-4c39-ae4b-325165ba263d",
   "metadata": {
    "slideshow": {
     "slide_type": "slide"
    }
   },
   "source": [
    "An **array** is a generic multidimensional container for homogenous data. This means that all the elemnts must be the same type (e.g. int, float etc.).  \n",
    "Arrays have **dtype** that shows what type of elemnts the array is composed by."
   ]
  },
  {
   "cell_type": "code",
   "execution_count": null,
   "id": "b4468ff3-3f96-4ec2-a356-99733c120cfa",
   "metadata": {
    "slideshow": {
     "slide_type": "-"
    }
   },
   "outputs": [],
   "source": [
    "import numpy as np \n",
    "a = np.array([1,2,3,4])\n",
    "b = np.array([1.0,2.,3.,4.])\n",
    "print (type(a))\n",
    "print (a.dtype)\n",
    "print (b.dtype)\n",
    "  "
   ]
  },
  {
   "cell_type": "markdown",
   "id": "ec3145d6",
   "metadata": {
    "slideshow": {
     "slide_type": "slide"
    }
   },
   "source": [
    "When using arrays be careful with the type of the elements"
   ]
  },
  {
   "cell_type": "code",
   "execution_count": null,
   "id": "e28538dc-7829-4a1d-82fa-a888df6ed30d",
   "metadata": {
    "slideshow": {
     "slide_type": "-"
    }
   },
   "outputs": [],
   "source": [
    "a[0] = 10\n",
    "print (a)\n",
    "a[0] = 11.7 # !! the element is truncated at the decimal place because it has to be an integer !!\n",
    "print (a)"
   ]
  },
  {
   "cell_type": "markdown",
   "id": "5c4fde3f-3f47-483f-b48e-5b3a2cf40550",
   "metadata": {
    "slideshow": {
     "slide_type": "slide"
    }
   },
   "source": [
    "## Creating arrays #\n",
    "There are many functions that allow us to create arrays:  \n",
    "- array([])\n",
    "- arange(start,stop,step,dtype)\n",
    "- linspace(start, stop, num=50, endpoint=True, retstep=False, dtype=None, axis=0)\n",
    "- zeros(shape, dtype=)\n",
    "- ones(shape,dtype=)"
   ]
  },
  {
   "cell_type": "markdown",
   "id": "98c9e587",
   "metadata": {
    "slideshow": {
     "slide_type": "slide"
    }
   },
   "source": [
    "### arange(start,stop,step,dtype)"
   ]
  },
  {
   "cell_type": "code",
   "execution_count": null,
   "id": "dca08855-c01e-4f63-af3c-f9fc8b8485b2",
   "metadata": {
    "slideshow": {
     "slide_type": "-"
    }
   },
   "outputs": [],
   "source": [
    "a = np.arange(0,10,0.1)\n",
    "print(a.dtype)"
   ]
  },
  {
   "cell_type": "markdown",
   "id": "8c775b2d",
   "metadata": {
    "slideshow": {
     "slide_type": "slide"
    }
   },
   "source": [
    "### linspace(start, stop, num=50, endpoint=True, retstep=False, dtype=None, axis=0)\n"
   ]
  },
  {
   "cell_type": "code",
   "execution_count": null,
   "id": "21220974-80fd-4ee3-8697-18b14f3b0910",
   "metadata": {
    "slideshow": {
     "slide_type": "-"
    }
   },
   "outputs": [],
   "source": [
    "np.linspace(0,10,100)\n"
   ]
  },
  {
   "cell_type": "markdown",
   "id": "b1816296",
   "metadata": {
    "slideshow": {
     "slide_type": "slide"
    }
   },
   "source": [
    "### zeros(shape, dtype=)\n"
   ]
  },
  {
   "cell_type": "code",
   "execution_count": null,
   "id": "f2bd7a6e-b834-416a-806b-09ba7e5c79e4",
   "metadata": {
    "slideshow": {
     "slide_type": "-"
    }
   },
   "outputs": [],
   "source": [
    "np.zeros(10)"
   ]
  },
  {
   "cell_type": "code",
   "execution_count": null,
   "id": "e5931567-0500-49f2-a351-71931d6a4177",
   "metadata": {
    "slideshow": {
     "slide_type": "-"
    }
   },
   "outputs": [],
   "source": [
    "np.zeros((10,3))"
   ]
  },
  {
   "cell_type": "code",
   "execution_count": null,
   "id": "bc623f4d-404c-41dc-978b-0cab6bbf5ecd",
   "metadata": {
    "slideshow": {
     "slide_type": "-"
    }
   },
   "outputs": [],
   "source": [
    "np.ones((2,3))"
   ]
  },
  {
   "cell_type": "markdown",
   "id": "631d7516-c2d4-4086-ac6e-5bd09282e783",
   "metadata": {
    "slideshow": {
     "slide_type": "slide"
    }
   },
   "source": [
    "**Arrays can be of multiple dimensions, up to 4 dimention.**"
   ]
  },
  {
   "cell_type": "code",
   "execution_count": null,
   "id": "e84ff260-7c1c-4f1e-abc2-e475d080981f",
   "metadata": {
    "slideshow": {
     "slide_type": "-"
    }
   },
   "outputs": [],
   "source": [
    "a = np.array([1,2,3,4])\n",
    "print (a)\n",
    "a.ndim"
   ]
  },
  {
   "cell_type": "markdown",
   "id": "eb028e0a-fce2-470e-9135-657da3ecb53a",
   "metadata": {
    "slideshow": {
     "slide_type": "slide"
    }
   },
   "source": [
    "To show the number of elements along each dimension we use the function ***shape***.  \n",
    "This function always return a touple with the number of elemnts along each axis."
   ]
  },
  {
   "cell_type": "code",
   "execution_count": null,
   "id": "81909561-373d-4d22-bfc1-8510fab63a30",
   "metadata": {
    "slideshow": {
     "slide_type": "-"
    }
   },
   "outputs": [],
   "source": [
    "a.shape"
   ]
  },
  {
   "cell_type": "code",
   "execution_count": null,
   "id": "4fcc2a26-9a92-4c6d-a467-ad01fc83062d",
   "metadata": {
    "slideshow": {
     "slide_type": "-"
    }
   },
   "outputs": [],
   "source": [
    "a = np.arange(0,9)\n",
    "print(a)\n",
    "b = a.reshape(3,3)\n",
    "print (b)\n",
    "b.shape\n"
   ]
  },
  {
   "cell_type": "markdown",
   "id": "d6f931cd",
   "metadata": {
    "slideshow": {
     "slide_type": "slide"
    }
   },
   "source": [
    "## Perform arithmetic with arrays elemnt wise #  \n",
    "Unlike  lists, arrays are designed to perform element wise operations.  \n",
    "This is called **vectorized computation**. It means that instead of writing a for loop as before here it is implicit (it happens behind the scene).  \n",
    "It can be done between arrays, constants or other elements.\n"
   ]
  },
  {
   "cell_type": "code",
   "execution_count": null,
   "id": "a3b73460",
   "metadata": {
    "slideshow": {
     "slide_type": "slide"
    }
   },
   "outputs": [],
   "source": [
    "a = np.arange(0,5)\n",
    "print (a)\n",
    "f = np.array([20,21,22,23,24])\n",
    "\n",
    "# operations between arrays\n",
    "print (a+f)\n",
    "print (a*f)\n",
    "print (a/f)\n",
    "print (a**f) #elevate to the power \n",
    "\n",
    "# operations between arrays and constants\n",
    "print (f+10)\n"
   ]
  },
  {
   "cell_type": "markdown",
   "id": "7aafb70c-e012-4683-969d-1a932d712c9b",
   "metadata": {
    "slideshow": {
     "slide_type": "slide"
    }
   },
   "source": [
    "## Array indexing ##\n",
    "As we have seen before we can access different elements of an array.  \n",
    "Arrays are mutable containers !!  \n",
    "For one dimentional arrays the indexing works the same way as for lists."
   ]
  },
  {
   "cell_type": "markdown",
   "id": "fe679fa8",
   "metadata": {
    "slideshow": {
     "slide_type": "-"
    }
   },
   "source": [
    "Extract a portion of an array by specifying a lower and upper bound.  \n",
    "As always the lower elemnt is included but the upper element is excluded.  \n",
    "It works the same way as for lists as we have seen before.  \n",
    "**array[lower:upper:step]**  "
   ]
  },
  {
   "cell_type": "code",
   "execution_count": null,
   "id": "7edce8b9-cd97-4969-bf05-32400d703312",
   "metadata": {
    "slideshow": {
     "slide_type": "-"
    }
   },
   "outputs": [],
   "source": [
    "a = np.arange(10)\n",
    "print (a)\n",
    "a[3:6]"
   ]
  },
  {
   "cell_type": "markdown",
   "id": "8e32744b-2db4-4c23-986b-ad2eb50b4378",
   "metadata": {
    "slideshow": {
     "slide_type": "slide"
    }
   },
   "source": [
    "**Multi-dimentional arrays**  \n",
    "Those are very important because data retrieved from an instrument always contain at least two columns: time, quantity.  "
   ]
  },
  {
   "cell_type": "code",
   "execution_count": null,
   "id": "87cc9013-0da9-43c7-a055-fd2f10beffcc",
   "metadata": {
    "slideshow": {
     "slide_type": "-"
    }
   },
   "outputs": [],
   "source": [
    "# 2-dimentional array\n",
    "a = np.linspace(1,10,10).reshape(2,5)\n",
    "a"
   ]
  },
  {
   "cell_type": "markdown",
   "id": "1e34d079-f137-4561-8e97-88ef3b172624",
   "metadata": {
    "slideshow": {
     "slide_type": "slide"
    }
   },
   "source": [
    "**The shape of this array is given by**  "
   ]
  },
  {
   "cell_type": "code",
   "execution_count": null,
   "id": "3691af73-398d-4753-9d56-2a0b2108306f",
   "metadata": {
    "slideshow": {
     "slide_type": "-"
    }
   },
   "outputs": [],
   "source": [
    "a.shape"
   ]
  },
  {
   "cell_type": "markdown",
   "id": "353e0a7e",
   "metadata": {
    "slideshow": {
     "slide_type": "slide"
    }
   },
   "source": [
    "**Access and set elements of multi-dimentional array**  \n",
    "**array[row,column]**  \n",
    "Think as coordinates in a two dimentional object.  \n"
   ]
  },
  {
   "cell_type": "code",
   "execution_count": null,
   "id": "ad7b78fc",
   "metadata": {
    "slideshow": {
     "slide_type": "-"
    }
   },
   "outputs": [],
   "source": [
    "print (a)\n",
    "a[0,-2] # acces a row"
   ]
  },
  {
   "cell_type": "code",
   "execution_count": null,
   "id": "c2a29809",
   "metadata": {
    "slideshow": {
     "slide_type": "-"
    }
   },
   "outputs": [],
   "source": [
    "a[1,1]"
   ]
  },
  {
   "cell_type": "markdown",
   "id": "831f73d3",
   "metadata": {
    "slideshow": {
     "slide_type": "slide"
    }
   },
   "source": [
    "## Array slicing ##\n",
    "Extract a portion of an array by specifying a lower and upper bound.  \n",
    "As always the lower elemnt is included but the upper element is excluded.  \n",
    "It works the same way as for lists as we have seen before.  \n",
    "**a[lower:upper:step]**  "
   ]
  },
  {
   "cell_type": "code",
   "execution_count": null,
   "id": "5d8abbcb",
   "metadata": {
    "slideshow": {
     "slide_type": "-"
    }
   },
   "outputs": [],
   "source": [
    "# just a reminder\n",
    "a = np.arange(0,10,1)\n",
    "print (a)\n",
    "print (a[::2])  #even number \n",
    "print (a[::-1]) #reverse array\n",
    "print (a[1::2]) #odd numbers"
   ]
  },
  {
   "cell_type": "markdown",
   "id": "6e8b5b1c",
   "metadata": {
    "slideshow": {
     "slide_type": "slide"
    }
   },
   "source": [
    "Now lets wee how it works **2-dimensional array slicing**"
   ]
  },
  {
   "cell_type": "code",
   "execution_count": null,
   "id": "5395d554",
   "metadata": {
    "slideshow": {
     "slide_type": "-"
    }
   },
   "outputs": [],
   "source": [
    "a = np.arange(0,12,1).reshape(3,4)\n",
    "a"
   ]
  },
  {
   "cell_type": "code",
   "execution_count": null,
   "id": "3ace55f4",
   "metadata": {
    "slideshow": {
     "slide_type": "-"
    }
   },
   "outputs": [],
   "source": [
    "# take the two elements in the middle \n",
    "a[2,2:4]"
   ]
  },
  {
   "cell_type": "code",
   "execution_count": null,
   "id": "cc53580e",
   "metadata": {
    "slideshow": {
     "slide_type": "subslide"
    }
   },
   "outputs": [],
   "source": [
    "# take the last two elemnts of the third row (you answer)\n",
    "a[2,2:4]"
   ]
  },
  {
   "cell_type": "code",
   "execution_count": null,
   "id": "60c3e877",
   "metadata": {
    "slideshow": {
     "slide_type": "subslide"
    }
   },
   "outputs": [],
   "source": [
    "# take the same element for all the rows \n",
    "a[:,2]"
   ]
  },
  {
   "cell_type": "markdown",
   "id": "280bbd27",
   "metadata": {
    "slideshow": {
     "slide_type": "slide"
    }
   },
   "source": [
    "# Visualizing data with **Matplotlib** #"
   ]
  },
  {
   "cell_type": "markdown",
   "id": "f46600d2",
   "metadata": {
    "slideshow": {
     "slide_type": "-"
    }
   },
   "source": [
    "In general, if you produce/analyze data there is the need to communicate them to the public (a colleague, scientific community, your employer etc.) in an effective way.  \n",
    "\n",
    "The gold standard for scientific communication is the ***figure***. This is a presentation of your findings in pictorial form. The goal of making *figures* is to clearly show your data to inform a reader of your ideas.  \n",
    "\n",
    "Also, when you are analyzing big data you have the need to visualize them in a direct way (look at hundreds of thousands of numbers is not useful), so that you will want to make *figures*. \n"
   ]
  },
  {
   "cell_type": "code",
   "execution_count": null,
   "id": "da11670e",
   "metadata": {
    "slideshow": {
     "slide_type": "-"
    }
   },
   "outputs": [],
   "source": [
    "import matplotlib.pylab as plt\n",
    "import numpy as np"
   ]
  },
  {
   "cell_type": "markdown",
   "id": "10e414a6",
   "metadata": {
    "slideshow": {
     "slide_type": "slide"
    }
   },
   "source": [
    "Make a plot of a straight line"
   ]
  },
  {
   "cell_type": "code",
   "execution_count": null,
   "id": "4b24a664",
   "metadata": {
    "slideshow": {
     "slide_type": "-"
    }
   },
   "outputs": [],
   "source": [
    "q = 2\n",
    "m = 4\n",
    "x = np.arange(0,10,1)\n",
    "\n",
    "y = m*x+q\n",
    "\n",
    "fig = plt.figure()\n",
    "plt.plot(x,y)"
   ]
  },
  {
   "cell_type": "code",
   "execution_count": null,
   "id": "73fc9591-b357-4f05-b8d4-9a4240502237",
   "metadata": {
    "slideshow": {
     "slide_type": "subslide"
    }
   },
   "outputs": [],
   "source": [
    "x = np.linspace(start=0,stop=100, num = 100)# Create a large array with 100 samples.0)\n",
    "m = 2\n",
    "q = 5\n",
    "y = m*x + q\n",
    "plt.plot(x,y, label = 'Moto ret. unif.', c = 'r', linestyle = 'dashed')\n",
    "plt.xlabel('Tempo', fontsize = 14)\n",
    "plt.ylabel('Spazio', fontsize = 14)\n",
    "plt.legend(loc='best')"
   ]
  },
  {
   "cell_type": "markdown",
   "id": "3933871c-0258-441f-900c-c8414ac4460d",
   "metadata": {
    "slideshow": {
     "slide_type": "slide"
    }
   },
   "source": [
    "### Plotting some simple functions"
   ]
  },
  {
   "cell_type": "markdown",
   "id": "7f984f5b",
   "metadata": {
    "slideshow": {
     "slide_type": "-"
    }
   },
   "source": [
    "Plottare una funzione esponenziale"
   ]
  },
  {
   "cell_type": "code",
   "execution_count": null,
   "id": "f45276d6-58d7-4866-b7bf-77cb2e1a5f9c",
   "metadata": {
    "slideshow": {
     "slide_type": "subslide"
    }
   },
   "outputs": [],
   "source": [
    "plt.figure(num=1, figsize=(10,5))\n",
    "x = np.linspace(start=-10, stop=4, num=100)\n",
    "y1 = np.exp(x) #esponenziale\n",
    "plt.plot(x,y1, color = 'k', linestyle='dashdot', marker='o' )\n",
    "plt.title('Esponenziale: y = e$^x$', fontsize=20)\n",
    "plt.axhline(y=0, color='r')\n",
    "plt.axvline(x=0, color='r')\n",
    "plt.ylim(-10,20)"
   ]
  },
  {
   "cell_type": "code",
   "execution_count": null,
   "id": "f49e9da8-7477-4c4a-b277-0d6fd2ab5d8b",
   "metadata": {
    "slideshow": {
     "slide_type": "subslide"
    }
   },
   "outputs": [],
   "source": [
    "plt.figure(num=2, figsize=(10,5))\n",
    "x=np.arange(0.1,5,0.1)\n",
    "y = np.exp(1.0/x)             #esponenziale 1/x\n",
    "plt.plot(x,-y, color = 'k', linestyle='dashdot', marker='o' )\n",
    "plt.title('Esponenziale: y = e$^{(1/x)}$', fontsize=20)\n",
    "plt.axhline(y=0, color='r')\n",
    "plt.axvline(x=0, color='r')\n",
    "plt.ylim(-20,0)"
   ]
  },
  {
   "cell_type": "markdown",
   "id": "713029e5",
   "metadata": {
    "slideshow": {
     "slide_type": "slide"
    }
   },
   "source": [
    "Radice quadrata"
   ]
  },
  {
   "cell_type": "code",
   "execution_count": null,
   "id": "5daff5f6-d584-4dd1-88e8-4115ea504241",
   "metadata": {
    "slideshow": {
     "slide_type": "subslide"
    }
   },
   "outputs": [],
   "source": [
    "plt.figure(3, figsize=(10,5))\n",
    "x1 = np.arange(0,10,0.1)   # start, stop, a step di,\n",
    "y2 = np.sqrt(x1) #Square root\n",
    "plt.plot(x1,y2, color = 'k', linestyle='dashdot', marker='o' )\n",
    "plt.title('Radice quadrata', fontsize=20)\n",
    "plt.axhline(y=0, color='r')\n",
    "plt.axvline(x=0, color='r')"
   ]
  },
  {
   "cell_type": "markdown",
   "id": "bc1e0e20",
   "metadata": {
    "slideshow": {
     "slide_type": "slide"
    }
   },
   "source": [
    "Logaritmo "
   ]
  },
  {
   "cell_type": "code",
   "execution_count": null,
   "id": "875840a2-e35b-4385-a20c-cc4f63a06d2e",
   "metadata": {
    "slideshow": {
     "slide_type": "subslide"
    }
   },
   "outputs": [],
   "source": [
    "plt.figure(4, figsize=(10,5))\n",
    "x = np.arange(0.01,4,0.1)\n",
    "y = np.log(x)              # logaritmo\n",
    "plt.plot(x,y, color = 'k', linestyle='dashdot', marker='H' )\n",
    "plt.title('Logaritmo', fontsize=20)\n",
    "plt.axhline(y=0, color='r')\n",
    "plt.axvline(x=0, color='r')"
   ]
  },
  {
   "cell_type": "markdown",
   "id": "211dd47f",
   "metadata": {
    "slideshow": {
     "slide_type": "slide"
    }
   },
   "source": [
    "Parabola"
   ]
  },
  {
   "cell_type": "code",
   "execution_count": null,
   "id": "243ac548-f1ee-44cf-92ba-41cac2d52876",
   "metadata": {
    "slideshow": {
     "slide_type": "subslide"
    }
   },
   "outputs": [],
   "source": [
    "plt.figure(5, figsize=(10,5))\n",
    "a = 1\n",
    "b = 2\n",
    "c = 3\n",
    "x = np.arange(-10,10,0.5)\n",
    "y = a +b*x +c*(x**2)              # parabola\n",
    "plt.plot(x,y, color = 'k', linestyle='dashdot',marker='o'  )\n",
    "plt.title('Parabola', fontsize=20)\n",
    "plt.axhline(y=0, color='r')\n",
    "plt.axvline(x=0, color='r')\n",
    "plt.ylim(-2,80)"
   ]
  },
  {
   "cell_type": "markdown",
   "id": "956ed572-6753-4b49-9543-5f2512a51fba",
   "metadata": {
    "slideshow": {
     "slide_type": "slide"
    }
   },
   "source": [
    "# <font color='blue'>Summary </font>"
   ]
  },
  {
   "cell_type": "markdown",
   "id": "692162af-ede1-4ab3-9599-3b510a4f3f4b",
   "metadata": {
    "slideshow": {
     "slide_type": "-"
    }
   },
   "source": [
    "Variables: pippo = 2 (int), pippo = 'cane' (str)\n",
    "\n",
    "Numbers: int, float, complex\n",
    "\n",
    "String & indexing: p = 'Seismogram', p[2:4] ...is\n",
    "\n",
    "List: everything = [a, b, c, d,1, 2, 3, \"hello\"]\n",
    "    \n",
    "    operation with list: a = [1,2,3], b = [2,3,3], a+b= [1,2,3,2,3,3]\n",
    "    \n",
    "    list sorting: pippo = [4,3,1,2,8,9], pippo.sort(), [1,2,3,4,8,9]\n",
    "\n",
    "Numpy module\n",
    "    \n",
    "    a = np.array([1,2,3]); b = np.array([2,3,4]), (a+b)= [3 5 7]\n",
    "    \n",
    "    a = np.arange(0,10,1)\n",
    "    \n",
    "    a = np.arange(1,10,1), a[3:6] = [4,5,6]\n",
    "    \n",
    "    Slicing:\n",
    "    a = [[0. 1. 2. 3. 4.]\n",
    "    [5. 6. 7. 8. 9.]]   a[1](access a raw), a[1,2] (access an element)\n",
    "\n",
    "Matplotlib module\n",
    "\n",
    "Plotting simple functions </font>"
   ]
  }
 ],
 "metadata": {
  "celltoolbar": "Slideshow",
  "kernelspec": {
   "display_name": "Python 3 (ipykernel)",
   "language": "python",
   "name": "python3"
  },
  "language_info": {
   "codemirror_mode": {
    "name": "ipython",
    "version": 3
   },
   "file_extension": ".py",
   "mimetype": "text/x-python",
   "name": "python",
   "nbconvert_exporter": "python",
   "pygments_lexer": "ipython3",
   "version": "3.10.9"
  },
  "vscode": {
   "interpreter": {
    "hash": "bb1850bd06e5fd926e86f1c332b3fdb76cf3adfe4483d2f91dc6390d7142f4fb"
   }
  }
 },
 "nbformat": 4,
 "nbformat_minor": 5
}
