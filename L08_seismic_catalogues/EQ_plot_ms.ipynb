{
 "cells": [
  {
   "cell_type": "markdown",
   "metadata": {
    "slideshow": {
     "slide_type": "slide"
    }
   },
   "source": [
    "# Analysis of seismic catalogues  \n",
    "this program will prepare and plot seismicity in map and section view  \n",
    "Marco Scuderi "
   ]
  },
  {
   "cell_type": "markdown",
   "metadata": {
    "slideshow": {
     "slide_type": "slide"
    }
   },
   "source": [
    "### Import the packages needed"
   ]
  },
  {
   "cell_type": "code",
   "execution_count": null,
   "metadata": {
    "slideshow": {
     "slide_type": "-"
    },
    "tags": []
   },
   "outputs": [],
   "source": [
    "import numpy as np\n",
    "import pandas as pd\n",
    "import matplotlib.pyplot as plt\n",
    "import datetime "
   ]
  },
  {
   "cell_type": "markdown",
   "metadata": {
    "slideshow": {
     "slide_type": "slide"
    }
   },
   "source": [
    "### Import and manipulate the dataset"
   ]
  },
  {
   "cell_type": "code",
   "execution_count": null,
   "metadata": {
    "slideshow": {
     "slide_type": "-"
    },
    "tags": []
   },
   "outputs": [],
   "source": [
    "aq=pd.read_csv('Aquila2009.csv', sep=';')  \n",
    "aq"
   ]
  },
  {
   "cell_type": "markdown",
   "metadata": {
    "slideshow": {
     "slide_type": "slide"
    }
   },
   "source": [
    "### Now we need to work on formatting the time column\n",
    "Pandas **to_datetime** will convert your string representation of a date to an actual date format that can be recognized by Pandas and used in time series. "
   ]
  },
  {
   "cell_type": "code",
   "execution_count": null,
   "metadata": {
    "slideshow": {
     "slide_type": "-"
    },
    "tags": []
   },
   "outputs": [],
   "source": [
    "aq['time'] = pd.to_datetime(aq['origin_time'])\n",
    "aq"
   ]
  },
  {
   "cell_type": "code",
   "execution_count": null,
   "metadata": {
    "slideshow": {
     "slide_type": "-"
    },
    "tags": []
   },
   "outputs": [],
   "source": [
    "# to keep the dataframe clean we can delete the column of origin_time\n",
    "aq=aq.drop(['origin_time'],axis=1)\n",
    "aq"
   ]
  },
  {
   "cell_type": "code",
   "execution_count": null,
   "metadata": {
    "slideshow": {
     "slide_type": "-"
    },
    "tags": []
   },
   "outputs": [],
   "source": [
    "#we can also rename columns for clarity\n",
    "aq.rename(columns= {'id_dd':'id'}, inplace=True)\n",
    "aq"
   ]
  },
  {
   "cell_type": "markdown",
   "metadata": {
    "slideshow": {
     "slide_type": "slide"
    }
   },
   "source": [
    "### Work on coordinate system for the projection"
   ]
  },
  {
   "cell_type": "markdown",
   "metadata": {
    "slideshow": {
     "slide_type": "-"
    }
   },
   "source": [
    "Build the [UTM](https://en.wikipedia.org/wiki/Universal_Transverse_Mercator_coordinate_system) system, we chose the utm33 "
   ]
  },
  {
   "cell_type": "code",
   "execution_count": null,
   "metadata": {
    "slideshow": {
     "slide_type": "-"
    },
    "tags": []
   },
   "outputs": [],
   "source": [
    "import pyproj\n",
    "utm33 = pyproj.Proj(proj='utm',zone=33, ellps='WGS84', preserve_units=False)\n",
    "#utm33 = pyproj.Proj(\"+proj=utm +zone=33, +north +ellps=WGS84 +datum=WGS84 +units=m +no_defs\")"
   ]
  },
  {
   "cell_type": "markdown",
   "metadata": {
    "slideshow": {
     "slide_type": "slide"
    }
   },
   "source": [
    "Convert the coordinate system from lat,lon,depth in UTM x,y,z"
   ]
  },
  {
   "cell_type": "code",
   "execution_count": null,
   "metadata": {
    "slideshow": {
     "slide_type": "-"
    },
    "tags": []
   },
   "outputs": [],
   "source": [
    "aq['utmx'],aq['utmy']=utm33(np.array(aq['lon']),np.array(aq['lat']))   #lat e lon di tutto il dataset in utm33 \n",
    "aq['utmx'] = aq['utmx']/1000   # tranform m to km\n",
    "aq['utmy'] = aq['utmy']/1000\n",
    "aq"
   ]
  },
  {
   "cell_type": "markdown",
   "metadata": {
    "slideshow": {
     "slide_type": "slide"
    }
   },
   "source": [
    "We want to individuate the mainshock and use it as a reference point for the analysis we will do later"
   ]
  },
  {
   "cell_type": "code",
   "execution_count": null,
   "metadata": {
    "slideshow": {
     "slide_type": "-"
    }
   },
   "outputs": [],
   "source": [
    "#Referene earthquake (mainshock) that is the center of the section here we use the mainshock\n",
    "mainev_ref = aq.loc[np.argmax(aq.mag)]\n",
    "mainev_ref\n"
   ]
  },
  {
   "cell_type": "markdown",
   "metadata": {
    "slideshow": {
     "slide_type": "slide"
    }
   },
   "source": [
    "Now we have all we need to **plot all the seismic sequence on a map**"
   ]
  },
  {
   "cell_type": "code",
   "execution_count": null,
   "metadata": {
    "scrolled": true,
    "slideshow": {
     "slide_type": "-"
    },
    "tags": []
   },
   "outputs": [],
   "source": [
    "%matplotlib qt\n",
    "#%matplotlib inline\n",
    "fig = plt.figure(figsize=(10,10))\n",
    "ax = fig.add_subplot(111)\n",
    "\n",
    "ax.scatter(aq.utmx, aq.utmy, s=3,marker='o', c='gray', alpha=.5, label='Sequenza Aquila 2009')\n",
    "ax.scatter(mainev_ref.utmx, mainev_ref.utmy,s=100, c='r',marker='*', label='Mainshock')\n",
    "\n",
    "\n",
    "plt.legend(fontsize=11)\n",
    "plt.xlabel('x (km)')\n",
    "plt.ylabel('y (km)')\n",
    "ax=plt.gca()\n",
    "ax.set_aspect('equal')\n",
    "ax.grid()"
   ]
  },
  {
   "cell_type": "markdown",
   "metadata": {
    "slideshow": {
     "slide_type": "slide"
    }
   },
   "source": [
    "### All we have done so far is nice but ... \n",
    "This representation is very limiting for understanding seismicity patterns and characterize the seismic sequence.   \n",
    "Often times we look at vertical sections to see how earthquakes are distributed as a function of depth.  \n",
    "This helps in understanding seismogenic faults and fault zone architecture.   \n",
    "\n",
    "<img src=\"Figure_1.png\" alt=\"Drawing\" width=\"700\"><br>\n",
    "ref: Valoroso et al., 2014 Geology"
   ]
  },
  {
   "cell_type": "markdown",
   "metadata": {
    "slideshow": {
     "slide_type": "slide"
    },
    "tags": []
   },
   "source": [
    "## Now let's start to  work on how to plot in section"
   ]
  },
  {
   "cell_type": "markdown",
   "metadata": {
    "slideshow": {
     "slide_type": "-"
    }
   },
   "source": [
    "### [Distanza di un punto da un piano](https://www.youtube.com/watch?v=zWMTTRJ0l4w&list=LL&index=1)"
   ]
  },
  {
   "cell_type": "markdown",
   "metadata": {
    "slideshow": {
     "slide_type": "slide"
    }
   },
   "source": [
    "### Let's code the theory we have just seen \n",
    "Create a function that allows us to calculate the distance of a point from a plane "
   ]
  },
  {
   "cell_type": "code",
   "execution_count": null,
   "metadata": {
    "slideshow": {
     "slide_type": "-"
    },
    "tags": []
   },
   "outputs": [],
   "source": [
    " # questo ci da la distanza di un punto da un piano generico: ax + by + bc + d = 0 \n",
    "def distance_point_from_plane(x, y, z, normal, origin):\n",
    "    # define equation of a plane\n",
    "    d = -normal[0]*origin[0]-normal[1]*origin[1]-normal[2]*origin[2]\n",
    "    # solve numerator\n",
    "    dn = np.abs(normal[0]*x+normal[1]*y+normal[2]*z+d)\n",
    "    # solve the equation\n",
    "    dist = dn/np.sqrt(normal[0]**2+normal[1]**2+normal[2]**2)\n",
    "    # return as output the values of the distances from the plane\n",
    "    return dist                                                      "
   ]
  },
  {
   "cell_type": "markdown",
   "metadata": {
    "slideshow": {
     "slide_type": "slide"
    }
   },
   "source": [
    "Now we have to find the direction of the section that we want to make and it's normal. We will constrain the normal direction using the origin point of the mainshock."
   ]
  },
  {
   "cell_type": "code",
   "execution_count": null,
   "metadata": {
    "slideshow": {
     "slide_type": "-"
    },
    "tags": []
   },
   "outputs": [],
   "source": [
    "strike=50    #direction of the section\n",
    "\n",
    "#normale alla sezione e angolo in radianti\n",
    "normal_ref=[np.cos(strike*np.pi/180),-np.sin(strike*np.pi/180),0]  \n",
    "\n",
    "# distanza dalla sezione di tutti i terremoti del catalogo\n",
    "aq['dist_ref']=distance_point_from_plane(aq.utmx,aq.utmy, -aq['dep'], normal_ref, mainev_ref[['utmx', 'utmy', 'dep']])\n"
   ]
  },
  {
   "cell_type": "markdown",
   "metadata": {
    "slideshow": {
     "slide_type": "slide"
    }
   },
   "source": [
    "At this point we need to find the position along the new x-axis of all the points along the section with azimuth=$\\alpha$"
   ]
  },
  {
   "cell_type": "code",
   "execution_count": null,
   "metadata": {
    "slideshow": {
     "slide_type": "-"
    },
    "tags": []
   },
   "outputs": [],
   "source": [
    "# distances on sections dataset e mainshock\n",
    "\n",
    "# deactivate pandas property \n",
    "pd.options.mode.chained_assignment = None  # default='warn'\n",
    "\n",
    "# create a new column to store the distance on section for all sequence\n",
    "aq['X_onsection']=+(aq.utmy-mainev_ref.utmy)*normal_ref[0]-(aq.utmx-mainev_ref.utmx)*normal_ref[1]\n",
    " \n",
    "# Mainshock \n",
    "mainev_ref['X_onsection']=+(mainev_ref.utmy-mainev_ref.utmy)*normal_ref[0]-(mainev_ref.utmx-mainev_ref.utmx)*normal_ref[1]\n"
   ]
  },
  {
   "cell_type": "markdown",
   "metadata": {
    "slideshow": {
     "slide_type": "slide"
    }
   },
   "source": [
    "### Plot all the earthquakes on section "
   ]
  },
  {
   "cell_type": "code",
   "execution_count": null,
   "metadata": {
    "slideshow": {
     "slide_type": "-"
    }
   },
   "outputs": [],
   "source": [
    "fig = plt.figure(figsize=(10,10))\n",
    "# all sequence\n",
    "plt.scatter(aq.X_onsection, -aq.dep, c='gray',s=3,marker='.',alpha=.2,label='Aquila 2009')\n",
    "\n",
    "plt.scatter(mainev_ref['X_onsection'], -mainev_ref.dep, marker='*', c='r',s=100, label='Mainshock Mw = 6.0')\n",
    "\n",
    "plt.ylim(-15,0)\n",
    "plt.xlim(-10,10)\n",
    "plt.legend(loc='upper left')"
   ]
  },
  {
   "cell_type": "markdown",
   "metadata": {
    "slideshow": {
     "slide_type": "slide"
    }
   },
   "source": [
    "## Let's further analyze the sequence  \n",
    "I want to see all the earthquakes that take place at a distance less than 1km from the mainshock "
   ]
  },
  {
   "cell_type": "code",
   "execution_count": null,
   "metadata": {
    "slideshow": {
     "slide_type": "-"
    }
   },
   "outputs": [],
   "source": [
    "# selezione dei terremoti con distanza prestabilita [km] dal mainshock\n",
    "eq_less_1km = aq.loc[np.where(aq.dist_ref <1)]\n",
    "\n",
    "# selected < 1km\n",
    "eq_less_1km['X_onsection']=+(eq_less_1km.utmy-mainev_ref.utmy)*normal_ref[0]-(eq_less_1km.utmx-mainev_ref.utmx)*normal_ref[1]\n",
    "eq_less_1km"
   ]
  },
  {
   "cell_type": "markdown",
   "metadata": {
    "slideshow": {
     "slide_type": "slide"
    }
   },
   "source": [
    "### Now we can plot them on the map \n"
   ]
  },
  {
   "cell_type": "code",
   "execution_count": null,
   "metadata": {
    "slideshow": {
     "slide_type": "-"
    }
   },
   "outputs": [],
   "source": [
    "fig = plt.figure(figsize=(10,10))\n",
    "ax = fig.add_subplot(111)\n",
    "\n",
    "ax.scatter(aq.utmx, aq.utmy, s=3,marker='o', c='gray', alpha=.5, label='Sequenza Aquila 2009')\n",
    "ax.scatter(eq_less_1km.utmx, eq_less_1km.utmy, s=3,marker='o', c='orange', alpha=.5, label='selected Eq 1km')\n",
    "\n",
    "ax.scatter(mainev_ref.utmx, mainev_ref.utmy,s=100, c='r',marker='*', label='Mainshock')\n",
    "\n",
    "plt.legend(fontsize=11)\n",
    "plt.xlabel('x (km)')\n",
    "plt.ylabel('y (km)')\n",
    "ax=plt.gca()\n",
    "ax.set_aspect('equal')\n",
    "ax.grid()"
   ]
  },
  {
   "cell_type": "markdown",
   "metadata": {
    "slideshow": {
     "slide_type": "slide"
    }
   },
   "source": [
    "### Plot on section"
   ]
  },
  {
   "cell_type": "code",
   "execution_count": null,
   "metadata": {
    "slideshow": {
     "slide_type": "-"
    },
    "tags": []
   },
   "outputs": [],
   "source": [
    "%matplotlib qt\n",
    "\n",
    "fig = plt.figure(figsize=(10,10))\n",
    "# all sequence\n",
    "plt.scatter(aq.X_onsection, -aq.dep, c='gray',s=3,marker='.',alpha=.2,label='Aquila 2009')\n",
    "# less 1km\n",
    "plt.scatter(eq_less_1km['X_onsection'],-eq_less_1km['dep'],c='orange',s=20,marker='.',alpha=.5,label='less 1km')\n",
    "plt.scatter(mainev_ref['X_onsection'], -mainev_ref.dep, marker='*', c='r',s=100, label='Mainshock Mw = 6.0')\n",
    "\n",
    "plt.ylim(-15,0)\n",
    "plt.xlim(-10,10)\n",
    "plt.legend(loc='upper left')\n"
   ]
  },
  {
   "cell_type": "markdown",
   "metadata": {
    "slideshow": {
     "slide_type": "slide"
    }
   },
   "source": [
    "## We can play with the dataset to gather more information about the seismic sequence   \n",
    "First we can plot together the map and section view"
   ]
  },
  {
   "cell_type": "code",
   "execution_count": null,
   "metadata": {
    "slideshow": {
     "slide_type": "-"
    }
   },
   "outputs": [],
   "source": [
    "# plot map and section view \n",
    "\n",
    "f, ax = plt.subplots(1,2, figsize=(15,8))\n",
    "\n",
    "ax[0].set_title('Map view')\n",
    "ax[0].scatter(aq.utmx, aq.utmy, s=3,marker='o', c='gray', alpha=.5, label='Sequenza Aquila 2009')\n",
    "ax[0].scatter(eq_less_1km.utmx, eq_less_1km.utmy, s=3,marker='o', c='orange', alpha=.5, label='selected Eq')\n",
    "ax[0].scatter(mainev_ref.utmx, mainev_ref.utmy,s=100, c='r',marker='*', label='Mainshock')\n",
    "ax[0].legend(loc='upper left')\n",
    "\n",
    "ax[1].set_title('Section view')\n",
    "ax[1].scatter(aq.X_onsection, -aq.dep, c='gray',s=3,marker='.',alpha=.2,label='Aquila 2009')\n",
    "ax[1].scatter(eq_less_1km.X_onsection,-eq_less_1km.dep,c='orange',s=3,marker='.',alpha=.5,label='Less 1km')\n",
    "ax[1].scatter(mainev_ref.X_onsection, -mainev_ref.dep, marker='*', c='r',s=100, label='Mainshock Mw = 6.0')\n",
    "ax[1].set_ylim(-15,0)\n",
    "ax[1].set_xlim(-10,10)\n",
    "ax[1].legend(loc='upper left')\n",
    "f.tight_layout()"
   ]
  },
  {
   "cell_type": "markdown",
   "metadata": {
    "slideshow": {
     "slide_type": "slide"
    }
   },
   "source": [
    "### We can make a step further \n",
    "Another useful thing that we can do is to plot the seismic sequence in the time domain as well to understand the time-space distribution of the earthquakes"
   ]
  },
  {
   "cell_type": "code",
   "execution_count": null,
   "metadata": {
    "slideshow": {
     "slide_type": "-"
    }
   },
   "outputs": [],
   "source": [
    "# plot space time evolution of the sequence \n",
    "\n",
    "fig=plt.figure(figsize=(10,10))\n",
    "plt.title('time-space view')\n",
    "plt.scatter(aq.time, aq.X_onsection,c='gray',s=3,alpha=0.2)\n",
    "plt.scatter(eq_less_1km.time, eq_less_1km.X_onsection, c='orange',s=20,marker='.',alpha=.5,label='Less 1km')\n",
    "plt.scatter(mainev_ref.time, mainev_ref.X_onsection, c='r', s=150, marker='*')\n",
    "plt.ylim(20,-20)\n",
    "plt.xlabel('Date')\n",
    "plt.ylabel('distance from the mainshock [km]')"
   ]
  },
  {
   "cell_type": "markdown",
   "metadata": {
    "slideshow": {
     "slide_type": "slide"
    }
   },
   "source": [
    "### Now we can unify all the three views"
   ]
  },
  {
   "cell_type": "code",
   "execution_count": null,
   "metadata": {
    "slideshow": {
     "slide_type": "-"
    }
   },
   "outputs": [],
   "source": [
    "# put the three views all together \n",
    "\n",
    "f, ax = plt.subplots(1,3, figsize=(20,8))\n",
    "\n",
    "ax[0].set_title('Map view')\n",
    "ax[0].scatter(aq.utmx, aq.utmy, s=3,marker='o', c='gray', alpha=.5, label='Sequenza Aquila 2009')\n",
    "ax[0].scatter(eq_less_1km.utmx, eq_less_1km.utmy, s=5,marker='o', c='orange', alpha=.5, label='selected Eq')\n",
    "ax[0].scatter(mainev_ref.utmx, mainev_ref.utmy,s=100, c='r',marker='*', label='Mainshock')\n",
    "ax[0].legend(loc='upper left')\n",
    "\n",
    "ax[1].set_title('Section view')\n",
    "ax[1].scatter(aq.X_onsection, -aq.dep, c='gray',s=3,marker='.',alpha=.2,label='Aquila 2009')\n",
    "ax[1].scatter(eq_less_1km.X_onsection,-eq_less_1km.dep,c='orange',s=3,marker='.',alpha=.5,label='Less 1km')\n",
    "ax[1].scatter(mainev_ref.X_onsection, -mainev_ref.dep, marker='*', c='r',s=100, label='Mainshock Mw = 6.0')\n",
    "ax[1].set_ylim(-15,0)\n",
    "ax[1].set_xlim(-10,10)\n",
    "ax[1].legend(loc='upper left')\n",
    "\n",
    "ax[2].set_title('time-space view')\n",
    "ax[2].scatter(aq.time, aq.X_onsection,c='gray',s=3,alpha=0.2)\n",
    "ax[2].scatter(eq_less_1km.time, eq_less_1km.X_onsection, c='orange',s=20,marker='.',alpha=.5,label='Less 1km')\n",
    "ax[2].scatter(mainev_ref.time, mainev_ref.X_onsection, c='r', s=150, marker='*')\n",
    "ax[2].set_ylim(20,-20)\n",
    "\n",
    "f.tight_layout()"
   ]
  },
  {
   "cell_type": "markdown",
   "metadata": {
    "slideshow": {
     "slide_type": "slide"
    }
   },
   "source": [
    "#### However, we do not have any information about the magnitude of the earthquakes   \n",
    "We can choose to select all the earthquakes with a magnitude in a prescribed range. "
   ]
  },
  {
   "cell_type": "code",
   "execution_count": null,
   "metadata": {
    "slideshow": {
     "slide_type": "-"
    }
   },
   "outputs": [],
   "source": [
    "# highlight eq>M3 within the 1km distance from the fault\n",
    "M3_less_1km = eq_less_1km[(eq_less_1km.mag>3) & (eq_less_1km.mag<5.8)]\n",
    "\n",
    "\n",
    "f, ax = plt.subplots(1,3, figsize=(20,8))\n",
    "\n",
    "ax[0].set_title('Map view')\n",
    "ax[0].scatter(aq.utmx, aq.utmy, s=3,marker='o', c='gray', alpha=.5, label='Sequenza Aquila 2009')\n",
    "ax[0].scatter(eq_less_1km.utmx, eq_less_1km.utmy, s=5,marker='o', c='orange', alpha=.5, label='selected Eq')\n",
    "ax[0].scatter(mainev_ref.utmx, mainev_ref.utmy,s=100, c='r',marker='*', label='Mainshock')\n",
    "ax[0].scatter(M3_less_1km.utmx, M3_less_1km.utmy,s=30, c='b',marker='D', label='M>3')\n",
    "ax[0].legend(loc='lower left')\n",
    "\n",
    "ax[1].set_title('Section view')\n",
    "ax[1].scatter(aq.X_onsection, -aq.dep, c='gray',s=3,marker='.',alpha=.2,label='Aquila 2009')\n",
    "ax[1].scatter(eq_less_1km.X_onsection,-eq_less_1km.dep,c='orange',s=3,marker='.',alpha=.5,label='Less 1km')\n",
    "ax[1].scatter(mainev_ref.X_onsection, -mainev_ref.dep, marker='*', c='r',s=100, label='Mainshock Mw = 6.0')\n",
    "ax[1].scatter(M3_less_1km.X_onsection, -M3_less_1km.dep,s=30, c='b',marker='D', label='M>3')\n",
    "\n",
    "ax[1].set_ylim(-15,0)\n",
    "ax[1].set_xlim(-10,10)\n",
    "\n",
    "ax[2].set_title('time-space view')\n",
    "ax[2].scatter(aq.time, aq.X_onsection,c='gray',s=3,alpha=0.2)\n",
    "ax[2].scatter(eq_less_1km.time, eq_less_1km.X_onsection, c='orange',s=20,marker='.',alpha=.5,label='Less 1km')\n",
    "ax[2].scatter(mainev_ref.time, mainev_ref.X_onsection, c='r', s=150, marker='*')\n",
    "ax[2].scatter(M3_less_1km.time, M3_less_1km.X_onsection,s=30, c='b',marker='D', label='M>3')\n",
    "\n",
    "ax[2].set_ylim(20,-20)\n",
    "\n",
    "f.tight_layout()\n",
    "\n"
   ]
  },
  {
   "cell_type": "markdown",
   "metadata": {
    "slideshow": {
     "slide_type": "skip"
    }
   },
   "source": [
    "## Some extra plots that may or may not work"
   ]
  },
  {
   "cell_type": "code",
   "execution_count": null,
   "metadata": {
    "slideshow": {
     "slide_type": "skip"
    }
   },
   "outputs": [],
   "source": [
    "from datetime import datetime\n",
    "import matplotlib.dates as mdates\n",
    "\n",
    "eq_M2 = np.where(aq.mag>2)\n",
    "\n",
    "# set a variable for dates\n",
    "dates = aq.time.iloc[eq_M2]\n",
    "# normalize eq \n",
    "eq_norm = (aq.mag.iloc[eq_M2]-min(aq.mag.iloc[eq_M2]))/(max(aq.mag.iloc[eq_M2])-min(aq.mag.iloc[eq_M2]))\n",
    "\n",
    "cm = plt.cm.get_cmap('plasma')\n",
    "\n",
    "# make the plot\n",
    "f, ax = plt.subplots(1,1, figsize=(8,8))\n",
    "\n",
    "sc = ax.scatter(aq.utmx.iloc[eq_M2], aq.utmy.iloc[eq_M2], c=mdates.date2num(dates),  marker='o', cmap=cm, s=eq_norm*150)\n",
    "sc = f.colorbar(mappable=sc, ax=ax)\n",
    "sc.set_label('Time')\n",
    "loc = mdates.AutoDateLocator()\n",
    "sc.ax.yaxis.set_major_locator(loc)\n",
    "sc.ax.yaxis.set_major_formatter(mdates.ConciseDateFormatter(loc))\n",
    "\n",
    "ax.scatter(aq.utmx, aq.utmy, s=3,marker='o', c='gray', alpha=.2, label='Sequenza Aquila 2009', zorder=0)\n",
    "ax.scatter(mainev_ref.utmx, mainev_ref.utmy,s=150, c='r',marker='*', label='Mainshock')\n",
    "\n",
    "ax.legend(fontsize=11)\n",
    "ax.set_xlabel('x (km)')\n",
    "ax.set_ylabel('y (km)')\n",
    "ax=plt.gca()\n",
    "ax.set_aspect('equal')\n",
    "ax.grid(zorder=0)\n",
    "f.tight_layout()"
   ]
  },
  {
   "cell_type": "code",
   "execution_count": null,
   "metadata": {
    "slideshow": {
     "slide_type": "skip"
    },
    "tags": []
   },
   "outputs": [],
   "source": [
    "# where are eq > 3 for the selected <1km portion?\n",
    "eq_g_M3 = eq_less_1km.loc[eq_less_1km.mag>2]\n",
    "\n",
    "cm = plt.cm.get_cmap('plasma')\n",
    "\n",
    "f, ax = plt.subplots(1,1, figsize=(10,10))\n",
    "sc = ax.scatter(aq.utmx.iloc[eq_g_M3], aq.utmy.iloc[eq_g_M3], c=aq.mag.iloc[eq_g_M3], vmin=min(aq.mag.iloc[eq_g_M3]), vmax=max(aq.mag.iloc[eq_g_M3]), cmap=cm)\n",
    "sc = f.colorbar(sc)\n",
    "sc.set_label('Magnitude')\n",
    "\n",
    "ax.scatter(aq.utmx, aq.utmy, s=3,marker='o', c='gray', alpha=.2, label='Sequenza Aquila 2009', zorder=0)\n",
    "ax.scatter(mainev_ref.utmx, mainev_ref.utmy,s=150, c='r',marker='*', label='Mainshock')\n",
    "\n",
    "ax.legend(fontsize=11)\n",
    "ax.set_xlabel('x (km)')\n",
    "ax.set_ylabel('y (km)')\n",
    "ax=plt.gca()\n",
    "ax.set_aspect('equal')\n",
    "ax.grid()\n",
    "f.tight_layout()\n",
    "\n",
    "f, ax = plt.subplots(1,2, figsize=(15,8))\n",
    "\n",
    "ax[0].set_title('Map view')\n",
    "ax[0].scatter(aq.utmx, aq.utmy, s=3,marker='o', c='gray', alpha=.5, label='Sequenza Aquila 2009')\n",
    "ax[0].scatter(eq_less_1km.utmx, eq_less_1km.utmy, s=5,marker='o', c='orange', alpha=.5, label='selected Eq')\n",
    "ax[0].scatter(mainev_ref.utmx, mainev_ref.utmy,s=100, c='r',marker='*', label='Mainshock')\n",
    "ax[0].legend(loc='upper left')\n",
    "\n",
    "ax[1].set_title('Section view')\n",
    "ax[1].scatter(aq.X_onsection, -aq.dep, c='gray',s=3,marker='.',alpha=.2,label='Aquila 2009')\n",
    "ax[1].scatter(eq_less_1km.X_onsection,-eq_less_1km.dep,c='orange',s=3,marker='.',alpha=.5,label='Less 1km')\n",
    "ax[1].scatter(mainev_ref.X_onsection, -mainev_ref.dep, marker='*', c='r',s=100, label='Mainshock Mw = 6.0')\n",
    "ax[1].set_ylim(-15,0)\n",
    "ax[1].set_xlim(-10,10)\n",
    "ax[1].legend(loc='upper left')\n",
    "f.tight_layout()"
   ]
  },
  {
   "cell_type": "markdown",
   "metadata": {
    "slideshow": {
     "slide_type": "skip"
    }
   },
   "source": [
    "### Now let's play on section "
   ]
  },
  {
   "cell_type": "code",
   "execution_count": null,
   "metadata": {
    "slideshow": {
     "slide_type": "skip"
    }
   },
   "outputs": [],
   "source": [
    "# earthquake with magnitude > 3\n",
    "M3 = eq_less_1km.iloc[np.where(eq_less_1km.mag>3)]\n",
    "\n",
    "f, ax = plt.subplots(1,1, figsize=(8,10))\n",
    "ax.scatter(eq_less_1km.X_onsection, -eq_less_1km.dep, c='gray', s=5, alpha=.5)\n",
    "sc = ax.scatter(M3.X_onsection, -M3.dep, c=M3.mag, vmin=min(M3.mag), vmax=max(M3.mag))\n",
    "\n",
    "plt.scatter(mainev_ref['X_onsection'], -mainev_ref.dep, marker='*', c='r',s=100, label='Mainshock Mw = 6.0')\n",
    "\n",
    "plt.ylim(-15,0)\n",
    "plt.xlim(-10,10)\n",
    "plt.legend(loc='upper left')"
   ]
  },
  {
   "cell_type": "code",
   "execution_count": null,
   "metadata": {
    "slideshow": {
     "slide_type": "skip"
    }
   },
   "outputs": [],
   "source": [
    "# colorbar by magnitude \n",
    "M3 = eq_less_1km.iloc[np.where(eq_less_1km.mag>3)]\n",
    "cm = plt.cm.get_cmap('plasma')\n",
    "\n",
    "f, ax = plt.subplots(1,1, figsize=(8,10))\n",
    "ax.scatter(eq_less_1km.X_onsection, -eq_less_1km.dep, c='gray', s=5, alpha=.5)\n",
    "ax.scatter(M3.X_onsection, -M3.dep, c='g')\n",
    "\n",
    "plt.scatter(mainev_ref['X_onsection'], -mainev_ref.dep, marker='*', c='r',s=100, label='Mainshock Mw = 6.0')\n",
    "\n",
    "plt.ylim(-15,0)\n",
    "plt.xlim(-10,10)\n",
    "plt.legend(loc='upper left')"
   ]
  },
  {
   "cell_type": "code",
   "execution_count": null,
   "metadata": {
    "slideshow": {
     "slide_type": "skip"
    },
    "tags": []
   },
   "outputs": [],
   "source": [
    "%matplotlib qt\n",
    "import matplotlib.colors as mcolors\n",
    "\n",
    "\n",
    "\n",
    "timediff = eq_less_1km.time-mainev_ref.time\n",
    "timediff = mdates.date2num(timediff)\n",
    "\n",
    "cm = plt.cm.get_cmap('seismic')\n",
    "\n",
    "vcenter = 0\n",
    "vmin, vmax = timediff.min(), timediff.max()\n",
    "normalize = mcolors.TwoSlopeNorm(vcenter=vcenter, vmin=vmin, vmax=vmax)\n",
    "\n",
    "\n",
    "f, ax = plt.subplots(1,1,figsize=(10,10))\n",
    "sc = ax.scatter(eq_less_1km.X_onsection,-eq_less_1km.dep,c=-timediff, norm=normalize,   \n",
    "                marker='o', cmap=cm,alpha=.5,label='Aquila 2009')\n",
    "sc = f.colorbar(mappable=sc, ax=ax)\n",
    "sc.set_label('Time')\n",
    "# loc = mdates.AutoDateLocator()\n",
    "# sc.ax.yaxis.set_major_locator(loc)\n",
    "# sc.ax.yaxis.set_major_formatter(mdates.ConciseDateFormatter(loc))\n",
    "\n",
    "\n",
    "ax.scatter(mainev_ref.X_onsection, -mainev_ref.dep, marker='*', c='r',s=100, label='Mainshock Mw = 6.0')\n",
    "\n",
    "plt.ylim(-15,0)\n",
    "plt.xlim(-10,10)\n",
    "plt.legend(loc='best')\n",
    "\n"
   ]
  },
  {
   "cell_type": "code",
   "execution_count": null,
   "metadata": {
    "slideshow": {
     "slide_type": "skip"
    }
   },
   "outputs": [],
   "source": [
    "fig = plt.figure(figsize=(10,10))\n",
    "plt.scatter(X_onsection_1km,-aq['dep'].loc[eq_less_1km],c='orange',s=3,marker='.',alpha=.5,label='<1km')\n",
    "plt.scatter(X_onsection_05km,-aq['dep'].loc[eq_less_05km],c='g',s=3,marker='.',alpha=.5,label='<0.5km')\n",
    "\n",
    "plt.scatter(X_onsection_mainevent, -mainev_ref.dep, marker='*', c='r',s=100, label='Mainshock Mw = 6.0')\n",
    "\n",
    "plt.ylim(-15,0)\n",
    "plt.xlim(-10,10)\n",
    "plt.legend(loc='upper left')"
   ]
  }
 ],
 "metadata": {
  "celltoolbar": "Slideshow",
  "kernelspec": {
   "display_name": "Python 3 (ipykernel)",
   "language": "python",
   "name": "python3"
  },
  "language_info": {
   "codemirror_mode": {
    "name": "ipython",
    "version": 3
   },
   "file_extension": ".py",
   "mimetype": "text/x-python",
   "name": "python",
   "nbconvert_exporter": "python",
   "pygments_lexer": "ipython3",
   "version": "3.10.9"
  },
  "vscode": {
   "interpreter": {
    "hash": "bb1850bd06e5fd926e86f1c332b3fdb76cf3adfe4483d2f91dc6390d7142f4fb"
   }
  }
 },
 "nbformat": 4,
 "nbformat_minor": 4
}
