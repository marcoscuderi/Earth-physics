{
 "cells": [
  {
   "cell_type": "markdown",
   "metadata": {
    "slideshow": {
     "slide_type": "slide"
    }
   },
   "source": [
    "# Introduction to programming with Python   \n",
    "### Fisica Terrestre   \n",
    "Marco Scuderi   \n",
    "29-09-2023  "
   ]
  },
  {
   "cell_type": "markdown",
   "metadata": {
    "slideshow": {
     "slide_type": "slide"
    },
    "tags": []
   },
   "source": [
    "# What is a program ?"
   ]
  },
  {
   "cell_type": "markdown",
   "metadata": {
    "slideshow": {
     "slide_type": "subslide"
    }
   },
   "source": [
    "Programming is the art of **giving instruction** to a computer to be executed.  \n",
    "Programming is like learn a **new language**, it has:  \n",
    "- Sintaxt and grammar  \n",
    "- Construction rules  \n",
    "- and os on  "
   ]
  },
  {
   "cell_type": "markdown",
   "metadata": {
    "slideshow": {
     "slide_type": "subslide"
    },
    "tags": []
   },
   "source": [
    "Any time that we face a problem that requires actions that must be repeated we need a program.  \n",
    "In the era of big data is **not conceivable** to make **manual data analysis**. We need to authomatize actions.  \n",
    "Let's consider a simple example such as the Fibonacci sequence:  \n",
    "$$F_n = F_{n-1} + F_{n-2}$$"
   ]
  },
  {
   "cell_type": "code",
   "execution_count": 2,
   "metadata": {
    "jupyter": {
     "outputs_hidden": true
    },
    "slideshow": {
     "slide_type": "subslide"
    },
    "tags": []
   },
   "outputs": [
    {
     "name": "stdout",
     "output_type": "stream",
     "text": [
      "[1, 1]\n",
      "2\n",
      "[1, 1, 2]\n",
      "3\n",
      "[1, 1, 2, 3]\n",
      "5\n",
      "5 is divisible by 12, the loop is stopped\n"
     ]
    }
   ],
   "source": [
    "fib = [1, 1]\n",
    "print (fib)\n",
    "while True:\n",
    "    x = fib[-2] + fib[-1]\n",
    "    print (x)\n",
    "    if x%5 == 0:\n",
    "        break\n",
    "    fib.append(x)\n",
    "    print (fib)\n",
    "print('%s is divisible by 12, the loop is stopped'%x)"
   ]
  },
  {
   "cell_type": "markdown",
   "metadata": {
    "slideshow": {
     "slide_type": "slide"
    }
   },
   "source": [
    "# Why python?"
   ]
  },
  {
   "cell_type": "markdown",
   "metadata": {
    "slideshow": {
     "slide_type": "subslide"
    }
   },
   "source": [
    "## - It's easy to learn, easy to read and fast to develop"
   ]
  },
  {
   "cell_type": "markdown",
   "metadata": {
    "slideshow": {
     "slide_type": "fragment"
    }
   },
   "source": [
    "It is considered to be the language of **choice for beginners**, and proper code formatting is in the design of the language. This is especially useful when you remember, that **we are the scientist not programmers**. What we need is to have a language that can be **learned quickly**, but at the same time is powerful enough to satisfy our needs."
   ]
  },
  {
   "cell_type": "markdown",
   "metadata": {
    "slideshow": {
     "slide_type": "subslide"
    }
   },
   "source": [
    "##  - It's free and opensource. "
   ]
  },
  {
   "cell_type": "markdown",
   "metadata": {
    "slideshow": {
     "slide_type": "fragment"
    }
   },
   "source": [
    "You will be able to use your scripts even if your institute does not have enough money to buy expensive software (MATLAB or IDL). You can make changes in the code, or at least have the possibility to look at the source code if you suspect that there is a bug."
   ]
  },
  {
   "cell_type": "markdown",
   "metadata": {
    "slideshow": {
     "slide_type": "subslide"
    }
   },
   "source": [
    "## - It's multiplatform"
   ]
  },
  {
   "cell_type": "markdown",
   "metadata": {
    "slideshow": {
     "slide_type": "fragment"
    }
   },
   "source": [
    "You can find it on many systems, so you are not tied to Windows, Mac or Linux. It sounds great, but is not always the case: some modules will work only on limited number of operating systems (e.g. PyNGL, pyFerret)."
   ]
  },
  {
   "cell_type": "markdown",
   "metadata": {
    "slideshow": {
     "slide_type": "subslide"
    }
   },
   "source": [
    "## - It's general purpose language"
   ]
  },
  {
   "cell_type": "markdown",
   "metadata": {
    "slideshow": {
     "slide_type": "fragment"
    }
   },
   "source": [
    "You can use it not only for data processing and visualization, but also for system administration, web development, database programming and so on. It is relatively easy to make your code run in the parallel mode. Last but not the least - if you ever decide to leave academia your chances on the market are much better with some python skills.\n"
   ]
  },
  {
   "cell_type": "markdown",
   "metadata": {
    "slideshow": {
     "slide_type": "slide"
    }
   },
   "source": [
    "# Python in Earth Sciences"
   ]
  },
  {
   "cell_type": "markdown",
   "metadata": {
    "slideshow": {
     "slide_type": "fragment"
    }
   },
   "source": [
    "- There are an infinite number of tools in python that are applied to the geosciences to analyze and process data  \n",
    "\n",
    "Lin, J. W.-B. (2012). [**Why Python Is the Next Wave in Earth Sciences Computing**](http://journals.ametsoc.org/doi/full/10.1175/BAMS-D-12-00148.1). *Bulletin of the American Meteorological Society*, 93(12), 1823–1824. doi:10.1175/BAMS-D-12-00148.1  \n",
    "\n",
    "\n",
    "- Clearly **Machine Learning** plays a major role in  the improvement of our understanding of Earth\n",
    "\n",
    "\n",
    "Johnson, P. A. et al.(2021) [**Laboratory earthquake forecasting: A machine learning competition**](https://www.pnas.org/doi/full/10.1073/pnas.2011362118)Natl Acad Sci Usa 118.\n",
    "\n",
    "[**Random Forest for Lithology Classification From Well Log Data**](https://towardsdatascience.com/random-forest-for-lithology-classification-from-well-log-data-4a1380ef025b)  \n",
    "\n",
    "And the list can go over and over"
   ]
  },
  {
   "cell_type": "markdown",
   "metadata": {
    "slideshow": {
     "slide_type": "slide"
    }
   },
   "source": [
    "### Some resources if you want to know more:  \n",
    "\n",
    "- Books\n",
    "    - [Effective computation in physics](https://www.oreilly.com/library/view/effective-computation-in/9781491901564/) \n",
    "    - [Python for data analysis](https://www.oreilly.com/library/view/python-for-data/9781449323592/)  \n",
    "    - [Introducetion to python in Earth Science data analysis](https://link.springer.com/book/10.1007/978-3-030-78055-5)  \n",
    "    - [Python Recipes for Earth Sciences](https://link.springer.com/book/10.1007/978-3-031-07719-7) \n",
    "    - [check out the Springer Series of books on Earth Science](https://www.springer.com/series/15201)  \n",
    "    \n",
    "    \n",
    "- Wbsites/blog  \n",
    "    - [Toward data science](https://towardsdatascience.com/)\n",
    "    - [Free code camp](https://www.freecodecamp.org/news/)  \n",
    "    - [AI Sweigart](https://www.youtube.com/user/Albert10110)  \n",
    "    - [Unidata](https://www.youtube.com/c/unidatanews)\n",
    "    - And **many many many more** "
   ]
  },
  {
   "cell_type": "markdown",
   "metadata": {
    "slideshow": {
     "slide_type": "slide"
    }
   },
   "source": [
    "# Let's take a look at the main tools to write programs  \n",
    "- Jupyter lab / jupyter notebook  \n",
    "- Integrated Development Environment (IDE)  \n",
    "    - Spyder  \n",
    "    - Visual Studio Code "
   ]
  },
  {
   "cell_type": "markdown",
   "metadata": {
    "slideshow": {
     "slide_type": "slide"
    }
   },
   "source": [
    "## Run notebook"
   ]
  },
  {
   "cell_type": "markdown",
   "metadata": {
    "slideshow": {
     "slide_type": "fragment"
    }
   },
   "source": [
    "In order to start Jupyter Lab you have to:  \n",
    "\n",
    "- Open the Anaconda prompt   \n",
    "    - **win+s** and type \"anaconda prompt\"  \n",
    "    - Navigate to the **directory** you want to work on   \n",
    "\n",
    "- type \"jupyter lab\" or \"jupyter notebook\"\n"
   ]
  },
  {
   "cell_type": "markdown",
   "metadata": {
    "slideshow": {
     "slide_type": "slide"
    }
   },
   "source": [
    "### Cells in the notebook"
   ]
  },
  {
   "cell_type": "markdown",
   "metadata": {
    "slideshow": {
     "slide_type": "fragment"
    }
   },
   "source": [
    "A Cell is used to contain some code that can be executed.  \n",
    "\n",
    "press **control + enter** to execute the cell  \n",
    "\n",
    "press **shift + enter**   to execute the cell and go to the next one"
   ]
  },
  {
   "cell_type": "code",
   "execution_count": 5,
   "metadata": {
    "slideshow": {
     "slide_type": "fragment"
    }
   },
   "outputs": [
    {
     "name": "stdout",
     "output_type": "stream",
     "text": [
      "Hello word !!\n"
     ]
    }
   ],
   "source": [
    "print('Hello word !!')"
   ]
  },
  {
   "cell_type": "markdown",
   "metadata": {
    "slideshow": {
     "slide_type": "slide"
    }
   },
   "source": [
    "## Python Modules  \n",
    "The main advantage of a programming language and in particular Pythos is that we can take advantage of the community that builds fundamental blocks that we can reuse. In other words **we do not need to reinvent the wheel every day**. For this reason it is fundamental to understand packages and modules in Python.  \n",
    "\n",
    "They represent a container of tools (functions) that you can use in your code.  \n",
    "More Pythonically, every file that is named with the extension **.py** when it is brought in a python interpreter is called **module**. A collection of modules in a directory is called **package**.  \n",
    "## The python standard library ##  \n",
    "Represents a collection of modules for a huge variety of common and not-so-common tasks. The batteries-included standard library is one of the things that makes Python\n",
    "so versatile.  \n",
    "## Importing modules ##  \n",
    "There are four ways to import a module in your code and be able to use the functions that it contains. "
   ]
  },
  {
   "cell_type": "code",
   "execution_count": 6,
   "metadata": {
    "collapsed": true,
    "jupyter": {
     "outputs_hidden": true
    },
    "slideshow": {
     "slide_type": "slide"
    },
    "tags": []
   },
   "outputs": [
    {
     "name": "stdout",
     "output_type": "stream",
     "text": [
      "12.566370614359172\n"
     ]
    }
   ],
   "source": [
    "import numpy \n",
    "\n",
    "radius = 2  \n",
    "area = numpy.pi*radius**2\n",
    "print(area)"
   ]
  },
  {
   "cell_type": "code",
   "execution_count": null,
   "metadata": {},
   "outputs": [],
   "source": []
  },
  {
   "cell_type": "code",
   "execution_count": null,
   "metadata": {},
   "outputs": [],
   "source": []
  },
  {
   "cell_type": "code",
   "execution_count": null,
   "metadata": {},
   "outputs": [],
   "source": []
  },
  {
   "cell_type": "markdown",
   "metadata": {
    "slideshow": {
     "slide_type": "fragment"
    }
   },
   "source": [
    "### What happens above ? \n",
    "Once a module has been imported, you can obtain variables in that module using the\n",
    "attribute access operator (.).  \n",
    "To know what are the variables and function in a module package there is an extensive documentation.\n",
    "https://numpy.org/\n"
   ]
  },
  {
   "cell_type": "markdown",
   "metadata": {
    "slideshow": {
     "slide_type": "slide"
    }
   },
   "source": [
    "### Aliasing import  \n",
    "The next form of importing changes the name of the module on import. This is helpful\n",
    "if there is a local variable whose name would otherwise clash with the name of the\n",
    "module"
   ]
  },
  {
   "cell_type": "code",
   "execution_count": 9,
   "metadata": {
    "collapsed": true,
    "jupyter": {
     "outputs_hidden": true
    },
    "slideshow": {
     "slide_type": "fragment"
    }
   },
   "outputs": [
    {
     "data": {
      "text/plain": [
       "12.566370614359172"
      ]
     },
     "execution_count": 9,
     "metadata": {},
     "output_type": "execute_result"
    }
   ],
   "source": [
    "import numpy as np\n",
    "circle_area = np.pi * radius**2\n",
    "circle_area"
   ]
  },
  {
   "cell_type": "markdown",
   "metadata": {
    "slideshow": {
     "slide_type": "slide"
    }
   },
   "source": [
    "### Some Python **conventions**:\n",
    "\n",
    "- ***Commenting*** - it is helpful for the poor soul who has to read your poorly written Python (sometimes that is you, weeks or months later) if you have included little **'sign-posts'** in the code, articulating what you are doing. These are called comments. They begin with a (#) symbol, after which you can write whatever you like and it will not be executed as a command.\n",
    "- ***Sensible variable names*** - relating to the thing the variable represents but not too long. For example, if a variable contains the mean temperature, then `Tmean` is a sensible variable name, where as `the_mean_temperature_of_the_profile` or `a1` are not sensible variable names.\n"
   ]
  },
  {
   "cell_type": "markdown",
   "metadata": {
    "slideshow": {
     "slide_type": "slide"
    }
   },
   "source": [
    "Hang-on, **what's a 'variable'**?\n",
    "\n",
    "**Execute the cell below by clicking inside it and hitting Ctrl+Enter**"
   ]
  },
  {
   "cell_type": "code",
   "execution_count": 2,
   "metadata": {
    "collapsed": true,
    "jupyter": {
     "outputs_hidden": true
    },
    "slideshow": {
     "slide_type": "-"
    }
   },
   "outputs": [
    {
     "name": "stdout",
     "output_type": "stream",
     "text": [
      "Hello, world\n"
     ]
    }
   ],
   "source": [
    "# this is a comment, nothing happens when Python reads this line\n",
    "hello_string = 'Hello, world' # You have just declared your first variable (container)\n",
    "print(hello_string) # You have just executed a program"
   ]
  },
  {
   "cell_type": "markdown",
   "metadata": {
    "slideshow": {
     "slide_type": "-"
    }
   },
   "source": [
    "The snippet of Python code above does a number of things.\n",
    "\n",
    "1. The first **line** is a comment - Python sees the (#) symbol and ignores everything that follows **on that line**.\n",
    "2. The second line creates a **variable** called `hello_string` and **assigns to it** the ***value*** `'Hello, world'`.\n",
    "3. The third line uses a **function** called `print` to display the value of `hello_string` to the screen. `hello_string` was **passed** to `print` as an **input** or **argument**."
   ]
  },
  {
   "cell_type": "markdown",
   "metadata": {
    "slideshow": {
     "slide_type": "slide"
    }
   },
   "source": [
    "# variables and types #  \n",
    "Variables consist of two parts: the **name** and the **value**.   \n",
    "```\n",
    "pippo = 3\n",
    "```\n",
    "They represent a container where you put something, that something is what it matters.\n",
    "This means that you monetarely associate a piece of your RAM to something. "
   ]
  },
  {
   "cell_type": "markdown",
   "metadata": {
    "slideshow": {
     "slide_type": "fragment"
    }
   },
   "source": [
    "All variables in Python are typed. This means that the values have certain well defined properties that dictate how they are used.  \n",
    "- Integers and floating-point numbers **(int and\n",
    "float)** are meant for mathematical operations.\n",
    "- Strings (str) are helpful for textual\n",
    "manipulation."
   ]
  },
  {
   "cell_type": "code",
   "execution_count": 10,
   "metadata": {
    "collapsed": true,
    "jupyter": {
     "outputs_hidden": true
    },
    "slideshow": {
     "slide_type": "slide"
    }
   },
   "outputs": [],
   "source": [
    "dims = 3                   # int, only digits\n",
    "ndim = 3.0                 # float, because of the '.'\n",
    "h_bar = 1.05457e-34        # float, because of the '.' or 'e'\n",
    "label = \"Energy (in MeV)\"  # str, quotes surround the text"
   ]
  },
  {
   "cell_type": "code",
   "execution_count": 12,
   "metadata": {},
   "outputs": [
    {
     "data": {
      "text/plain": [
       "float"
      ]
     },
     "execution_count": 12,
     "metadata": {},
     "output_type": "execute_result"
    }
   ],
   "source": [
    "# How do I see what is the type of a certain variable? \n",
    "type(ndim)"
   ]
  },
  {
   "cell_type": "markdown",
   "metadata": {
    "slideshow": {
     "slide_type": "slide"
    }
   },
   "source": [
    "Operations between different types of variables  \n",
    "aka --> we can use Python as a glorified calculator"
   ]
  },
  {
   "cell_type": "code",
   "execution_count": 1,
   "metadata": {
    "slideshow": {
     "slide_type": "-"
    }
   },
   "outputs": [],
   "source": [
    "dims = 3                   # int, only digits\n",
    "ndim = 3.0                 # float, because of the '.'\n",
    "h_bar = 1.05457e-34        # float, because of the '.' or 'e'\n",
    "label = \"Energy (in MeV)\""
   ]
  },
  {
   "cell_type": "code",
   "execution_count": 18,
   "metadata": {
    "slideshow": {
     "slide_type": "-"
    }
   },
   "outputs": [
    {
     "ename": "TypeError",
     "evalue": "unsupported operand type(s) for +: 'int' and 'str'",
     "output_type": "error",
     "traceback": [
      "\u001b[0;31m---------------------------------------------------------------------------\u001b[0m",
      "\u001b[0;31mTypeError\u001b[0m                                 Traceback (most recent call last)",
      "Cell \u001b[0;32mIn [18], line 4\u001b[0m\n\u001b[1;32m      1\u001b[0m \u001b[38;5;66;03m#print(type(dims+dims))\u001b[39;00m\n\u001b[1;32m      2\u001b[0m \u001b[38;5;66;03m#print(ndim/dims)\u001b[39;00m\n\u001b[1;32m      3\u001b[0m \u001b[38;5;66;03m#print(label+label)\u001b[39;00m\n\u001b[0;32m----> 4\u001b[0m \u001b[38;5;28mprint\u001b[39m(dims\u001b[38;5;241m+\u001b[39mlabel)\n",
      "\u001b[0;31mTypeError\u001b[0m: unsupported operand type(s) for +: 'int' and 'str'"
     ]
    }
   ],
   "source": [
    "#print(type(dims+dims))\n",
    "#print(ndim/dims)\n",
    "#print(label+label)\n",
    "print(dims+label)"
   ]
  },
  {
   "cell_type": "markdown",
   "metadata": {
    "slideshow": {
     "slide_type": "slide"
    }
   },
   "source": [
    "## What you have learn today:  \n",
    "- Approached with a programming language \n",
    "- How to use a jupyter notebook\n",
    "- Import python mudules to make your life easy \n",
    "- Variables and variables types"
   ]
  }
 ],
 "metadata": {
  "celltoolbar": "Slideshow",
  "kernelspec": {
   "display_name": "Python 3 (ipykernel)",
   "language": "python",
   "name": "python3"
  },
  "language_info": {
   "codemirror_mode": {
    "name": "ipython",
    "version": 3
   },
   "file_extension": ".py",
   "mimetype": "text/x-python",
   "name": "python",
   "nbconvert_exporter": "python",
   "pygments_lexer": "ipython3",
   "version": "3.10.9"
  },
  "vscode": {
   "interpreter": {
    "hash": "bb1850bd06e5fd926e86f1c332b3fdb76cf3adfe4483d2f91dc6390d7142f4fb"
   }
  }
 },
 "nbformat": 4,
 "nbformat_minor": 4
}
