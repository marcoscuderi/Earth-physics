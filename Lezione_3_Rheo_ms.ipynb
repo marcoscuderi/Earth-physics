{
 "cells": [
  {
   "cell_type": "markdown",
   "metadata": {
    "slideshow": {
     "slide_type": "slide"
    }
   },
   "source": [
    "# Rheological Profiles\n",
    "Fisica Terrestre  \n",
    "  \n",
    "Marco Scuderi\n"
   ]
  },
  {
   "cell_type": "markdown",
   "metadata": {},
   "source": [
    "A resource for you to get better at python for the geoscience.  \n",
    "\n",
    "This is a short course with theory slides and exercises [Python for Earth Scientist](https://homepages.see.leeds.ac.uk/~earawa/PythonEarthSci/)"
   ]
  },
  {
   "cell_type": "markdown",
   "metadata": {
    "slideshow": {
     "slide_type": "slide"
    }
   },
   "source": [
    "What is **Rheology**?   \n",
    "It is a physical discipline that studies the deformation and sliding of a body as a consequence of an external force. In other words they are a set of physical laws that relate stress and strain, strain rate with the deformation of a body (in our case of today it is the Earth crust).   \n",
    "\n",
    "**Today** we will investigate through exercises (**learn by doing**) how stress changes with depth and how we can define an elastic or viscous behavior.  \n",
    "In this context we will explore how factors such as the fluid pressure, temperature and strain rate can control the brittle-ductile transition. "
   ]
  },
  {
   "cell_type": "markdown",
   "metadata": {
    "slideshow": {
     "slide_type": "slide"
    }
   },
   "source": [
    "# Frictional elastic regime  \n",
    "This regime defines the field where a body will deform in a brittle way.  "
   ]
  },
  {
   "cell_type": "markdown",
   "metadata": {
    "slideshow": {
     "slide_type": "subslide"
    }
   },
   "source": [
    "In this deformation field the differential stress is given by:  \n",
    "\n",
    "$ (\\sigma_1 - \\sigma_3) = \\beta \\rho g z (1-\\lambda)$  Eq. (1)\n",
    "\n",
    "Where:  \n",
    "- $\\lambda$ is the pore fluid factor defined by the ration between the fluid pressure and lithostatic stress:  \n",
    "$\\lambda = \\frac{P_f}{\\rho g z}$  \n",
    "- $\\rho$ is the density of the rocks  \n",
    "- $g$ is the gravity acceleration  \n",
    "- $z$ is the depth  \n",
    "\n",
    "Finally $\\beta$ is a parameter that depends on the tectonic regime (i.e. compressional, strike-slip or extensional).  \n",
    "\n"
   ]
  },
  {
   "cell_type": "markdown",
   "metadata": {
    "slideshow": {
     "slide_type": "subslide"
    }
   },
   "source": [
    "As we have seen in class $\\beta$ is defined by the $R^{'}$ parameter that is the minimum ratio, $R^{'}=\\frac{\\sigma_1}{\\sigma_3}$, required to reactivate a fault that is optimally oriented.  \n",
    "This parameter can be rewritten in therms of friction coefficient as:  \n",
    "\n",
    "$R^{'} = [\\sqrt(1+\\mu^{2})+\\mu)]^{2}$  Eq (2)\n",
    "\n",
    "where $\\mu$ is the coefficient of friction.  \n",
    "\n",
    "In your class notes you should have all the demonstration to obtain $\\beta$.  \n",
    "Just a reminder that for a coefficient of friction of $\\mu = 0.75$ and a fluid factor of $\\lambda=0.4$ we can derive :  \n",
    "- Compressive regime  \n",
    "$\\beta = R^{'}-1$  \n",
    "- Strike slip regime ($\\phi=0.5$)  \n",
    "$\\beta = 2*\\frac{R^{'}-1}{R^{'}+1}$\n",
    "- Extensional regime  \n",
    "$\\beta = \\frac{R^{'}-1}{R^{'}}$\n"
   ]
  },
  {
   "cell_type": "markdown",
   "metadata": {
    "slideshow": {
     "slide_type": "slide"
    }
   },
   "source": [
    "### Now it is time to play with it"
   ]
  },
  {
   "cell_type": "markdown",
   "metadata": {
    "slideshow": {
     "slide_type": "fragment"
    }
   },
   "source": [
    "Dobbiamo creare una serie di variabili che ci permettono di vedere come evolve lo stress differenziale con la profondità (z) tramite la relazione (1). Queste sono:\n",
    "\n",
    "$\\rho$ = 2650 kg/m$^3$; \n",
    "\n",
    "g = 9.8 m/s$^2$;\n",
    "\n",
    "$\\lambda$ = 0.4.\n",
    "\n",
    "$\\beta$ è funzione sia del regime tettonico sia di R' che è funzione dell'attrito $\\mu$.  \n",
    "\n",
    "\n",
    "Per la profondita' (z) possiamo costruire un array con valori da 0 a 40 km di profondità. \n",
    "\n",
    "`z = np.arange(0,40000,1)`\n",
    "\n",
    "Ora possiamo fissare $\\mu$ = 0.75 e ricavare R' dalla relazione (2) ed in fuzione del regime tettonico che vogliamo considerare, otteniamo $\\beta$. \n",
    "\n",
    "\n",
    "<font color='red'>Fate l'analisi dimensionale per vedere se otteniamo effettivamente uno sforzo e l'unità di misura dello stesso.</font>\n"
   ]
  },
  {
   "cell_type": "markdown",
   "metadata": {
    "slideshow": {
     "slide_type": "slide"
    }
   },
   "source": [
    "First we need to import the tool to make the calculation and visualize the results"
   ]
  },
  {
   "cell_type": "code",
   "execution_count": 1,
   "metadata": {
    "slideshow": {
     "slide_type": "-"
    }
   },
   "outputs": [],
   "source": [
    "import numpy as np                  #perchè vogliamo fare dei conti\n",
    "import matplotlib.pyplot as plt     #perchè vogliamo fare dei grafici"
   ]
  },
  {
   "cell_type": "markdown",
   "metadata": {
    "slideshow": {
     "slide_type": "slide"
    }
   },
   "source": [
    "Now we have to define all the constants that we need"
   ]
  },
  {
   "cell_type": "code",
   "execution_count": 2,
   "metadata": {
    "slideshow": {
     "slide_type": "-"
    }
   },
   "outputs": [],
   "source": [
    "rho = 2650 # [kg/m3]\n",
    "g = 9.8 # [m/s2]\n",
    "lam = 0.4\n",
    "mu = 0.75 \n",
    "z = np.arange(0,40000,1) # [m]"
   ]
  },
  {
   "cell_type": "code",
   "execution_count": 3,
   "metadata": {
    "slideshow": {
     "slide_type": "subslide"
    }
   },
   "outputs": [],
   "source": [
    "rho = 2650 # (il cancelletto ci permette di fare commensti senze che siano condiderati dal codice) densità media corsta in kg/m3\n",
    "g = 9.8    #accelerazione di gracvità in m/s2\n",
    "lam = 0.4  #pore fluid factor\n",
    "mu = 0.75  #coefficiente di attrito\n",
    "z = np.arange(0,50000,1) #array per la profondità in m, ovvero fino a 50 km"
   ]
  },
  {
   "cell_type": "markdown",
   "metadata": {
    "slideshow": {
     "slide_type": "slide"
    }
   },
   "source": [
    "Finally we need to calculate the parameter $R{'}$"
   ]
  },
  {
   "cell_type": "code",
   "execution_count": 4,
   "metadata": {
    "slideshow": {
     "slide_type": "-"
    }
   },
   "outputs": [
    {
     "name": "stdout",
     "output_type": "stream",
     "text": [
      "4.0\n"
     ]
    }
   ],
   "source": [
    "R = (np.sqrt(1+mu**2)+mu)**2\n",
    "print(R)"
   ]
  },
  {
   "cell_type": "markdown",
   "metadata": {
    "slideshow": {
     "slide_type": "skip"
    }
   },
   "source": [
    "Run the cell and if your math is right R should be 4."
   ]
  },
  {
   "cell_type": "markdown",
   "metadata": {
    "slideshow": {
     "slide_type": "slide"
    }
   },
   "source": [
    "## Now we have everything to solve the equation  \n",
    "\n",
    "$ (\\sigma_1 - \\sigma_3) = \\beta \\rho g z (1-\\lambda)$   \n",
    "\n",
    "### Let's start witht the compressive regime\n",
    "\n",
    "$\\beta$ = R-1"
   ]
  },
  {
   "cell_type": "code",
   "execution_count": 23,
   "metadata": {
    "slideshow": {
     "slide_type": "subslide"
    }
   },
   "outputs": [
    {
     "data": {
      "text/plain": [
       "Text(0, 0.5, 'Depth [m]')"
      ]
     },
     "execution_count": 23,
     "metadata": {},
     "output_type": "execute_result"
    }
   ],
   "source": [
    "%matplotlib qt\n",
    "bc = R - 1\n",
    "sdc = bc*rho*g*z*(1-lam)\n",
    "\n",
    "fig = plt.figure()\n",
    "plt.plot(sdc,z,'ko-')\n",
    "plt.xlabel('Differential stress [Pa]')\n",
    "plt.ylabel('Depth [m]')\n"
   ]
  },
  {
   "cell_type": "code",
   "execution_count": 6,
   "metadata": {
    "slideshow": {
     "slide_type": "subslide"
    }
   },
   "outputs": [
    {
     "data": {
      "text/plain": [
       "Text(0.5, 0, 'Differential Stress $(\\\\sigma_1 - \\\\sigma_3)$ [Pa]')"
      ]
     },
     "execution_count": 6,
     "metadata": {},
     "output_type": "execute_result"
    }
   ],
   "source": [
    "bc = R-1  #beta nel regime compressivo\n",
    "\n",
    "sdc = bc*rho*g*z*(1-lam)   #stress differenziale (in Pa) con profondità in regime compressivo\n",
    "\n",
    "#Ora facciamo un plot di questo\n",
    "fig = plt.figure()\n",
    "plt.plot(sdc,z,'k')\n",
    "plt.ylabel('Depth [m]')\n",
    "plt.xlabel(r'Differential Stress $(\\sigma_1 - \\sigma_3)$ [Pa]')"
   ]
  },
  {
   "cell_type": "markdown",
   "metadata": {
    "slideshow": {
     "slide_type": "subslide"
    }
   },
   "source": [
    "Gli stress tettonici sono nell'ordine dei MPa ed aumentano con la profondità, quindi trasformaiamo da Pa in MPa, ovvero moltiplichiamo per 1e-6, ed andiamo in profondità ovvero -z e moltiplichiamo per *1e-6 in quanto vogliamo z in km."
   ]
  },
  {
   "cell_type": "code",
   "execution_count": 7,
   "metadata": {
    "slideshow": {
     "slide_type": "-"
    }
   },
   "outputs": [
    {
     "data": {
      "text/plain": [
       "Text(0.5, 0, 'Differential Stress $(\\\\sigma_1 - \\\\sigma_3)$ [MPa]')"
      ]
     },
     "execution_count": 7,
     "metadata": {},
     "output_type": "execute_result"
    }
   ],
   "source": [
    "sdc_Mpa = sdc*1e-6\n",
    "z_km = -z*1e-3\n",
    "\n",
    "fig = plt.figure()\n",
    "plt.plot(sdc_Mpa,z_km,'k')\n",
    "plt.ylabel('Depth [km]')\n",
    "plt.xlabel(r'Differential Stress $(\\sigma_1 - \\sigma_3)$ [MPa]')\n"
   ]
  },
  {
   "cell_type": "markdown",
   "metadata": {
    "slideshow": {
     "slide_type": "slide"
    }
   },
   "source": [
    "Miglioriamo un po' la figura"
   ]
  },
  {
   "cell_type": "code",
   "execution_count": 8,
   "metadata": {
    "slideshow": {
     "slide_type": "-"
    }
   },
   "outputs": [
    {
     "data": {
      "text/plain": [
       "<matplotlib.legend.Legend at 0x7ff474fd8df0>"
      ]
     },
     "execution_count": 8,
     "metadata": {},
     "output_type": "execute_result"
    }
   ],
   "source": [
    "fig = plt.figure()\n",
    "plt.plot(sdc*1e-6,-z*1e-3, c = 'r', label = 'Regime Compressivo')\n",
    "plt.xlabel(r'Differential Stress $(\\sigma_1 - \\sigma_3)$ [MPa]', fontsize = '14')\n",
    "plt.ylabel('Profondità, (km)', fontsize = '14')\n",
    "plt.legend(loc='best')"
   ]
  },
  {
   "cell_type": "markdown",
   "metadata": {
    "slideshow": {
     "slide_type": "slide"
    }
   },
   "source": [
    "### 2) Regime trascorrente $\\beta$ = 2(R-1)/(R+1)"
   ]
  },
  {
   "cell_type": "code",
   "execution_count": 24,
   "metadata": {
    "slideshow": {
     "slide_type": "-"
    }
   },
   "outputs": [
    {
     "data": {
      "text/plain": [
       "<matplotlib.legend.Legend at 0x7ff467679190>"
      ]
     },
     "execution_count": 24,
     "metadata": {},
     "output_type": "execute_result"
    }
   ],
   "source": [
    "bt = 2*(R-1)/(R+1)\n",
    "sdt = (bt*rho*g*z*(1-lam))*1e-6\n",
    "\n",
    "fig=plt.figure()\n",
    "plt.plot(sdc_Mpa, z_km, 'r', label='regime compressivo')\n",
    "plt.plot(sdt, z_km, 'k', label='regime trascorrente')\n",
    "plt.xlabel('diff stress [MPa]')\n",
    "plt.ylabel('depth [km]')\n",
    "plt.legend(loc='upper right')"
   ]
  },
  {
   "cell_type": "code",
   "execution_count": 10,
   "metadata": {
    "slideshow": {
     "slide_type": "subslide"
    }
   },
   "outputs": [],
   "source": [
    "bt = 2*(R-1)/(R+1)\n",
    "sdt = bt*rho*g*z*(1-lam) "
   ]
  },
  {
   "cell_type": "code",
   "execution_count": 11,
   "metadata": {
    "slideshow": {
     "slide_type": "-"
    }
   },
   "outputs": [
    {
     "data": {
      "text/plain": [
       "<matplotlib.legend.Legend at 0x7ff474f065e0>"
      ]
     },
     "execution_count": 11,
     "metadata": {},
     "output_type": "execute_result"
    }
   ],
   "source": [
    "fig=plt.figure()\n",
    "plt.plot(sdt*1e-6,-z*1e-3, c = 'k', label = 'Regime Trascorrente')\n",
    "plt.xlabel('Stress differenziale (MPa)', fontsize = '14')\n",
    "plt.ylabel('Profondità, (km)', fontsize = '14')\n",
    "plt.legend(loc='best')"
   ]
  },
  {
   "cell_type": "markdown",
   "metadata": {
    "slideshow": {
     "slide_type": "slide"
    }
   },
   "source": [
    "### 3) Regime estensionale $\\beta$ = (R-1)/R"
   ]
  },
  {
   "cell_type": "code",
   "execution_count": null,
   "metadata": {
    "slideshow": {
     "slide_type": "-"
    }
   },
   "outputs": [],
   "source": []
  },
  {
   "cell_type": "code",
   "execution_count": 12,
   "metadata": {
    "slideshow": {
     "slide_type": "subslide"
    }
   },
   "outputs": [],
   "source": [
    "be = (R-1)/R\n",
    "\n",
    "sde = be*rho*g*z*(1-lam) \n"
   ]
  },
  {
   "cell_type": "markdown",
   "metadata": {},
   "source": [
    "Let's learn something new. We use a **magic command** to activate the interactive plot."
   ]
  },
  {
   "cell_type": "code",
   "execution_count": 13,
   "metadata": {
    "slideshow": {
     "slide_type": "-"
    }
   },
   "outputs": [
    {
     "data": {
      "text/plain": [
       "<matplotlib.legend.Legend at 0x7ff474fa3520>"
      ]
     },
     "execution_count": 13,
     "metadata": {},
     "output_type": "execute_result"
    }
   ],
   "source": [
    "# this is a magic command that starts with a % sign\n",
    "%matplotlib qt \n",
    "\n",
    "fig=plt.figure()\n",
    "plt.plot(sde*1e-6,-z*1e-3, c = 'b', label = 'Regime Estensionale')\n",
    "plt.xlabel('Stress differenziale (MPa)', fontsize = '14')\n",
    "plt.ylabel('Profondità, (km)', fontsize = '14')\n",
    "plt.legend(loc='best')"
   ]
  },
  {
   "cell_type": "markdown",
   "metadata": {
    "slideshow": {
     "slide_type": "slide"
    }
   },
   "source": [
    "### Ora mettiamo a confronto i tre profili reologici"
   ]
  },
  {
   "cell_type": "code",
   "execution_count": null,
   "metadata": {
    "slideshow": {
     "slide_type": "-"
    }
   },
   "outputs": [],
   "source": []
  },
  {
   "cell_type": "code",
   "execution_count": 28,
   "metadata": {
    "slideshow": {
     "slide_type": "subslide"
    }
   },
   "outputs": [
    {
     "data": {
      "text/plain": [
       "<matplotlib.legend.Legend at 0x7ff465503250>"
      ]
     },
     "execution_count": 28,
     "metadata": {},
     "output_type": "execute_result"
    }
   ],
   "source": [
    "fig=plt.figure()\n",
    "plt.plot(sdc*1e-6,-z*1e-3, c = 'r', label = 'Regime Compressivo')\n",
    "plt.plot(sdt,-z*1e-3, c = 'k', label = 'Regime Trascorrente')\n",
    "plt.plot(sde*1e-6,-z*1e-3, c = 'b', label = 'Regime Estensionale')\n",
    "plt.xlabel('Stress differenziale (MPa)', fontsize = '14')\n",
    "plt.ylabel('Profondità, (km)', fontsize = '14')\n",
    "plt.title('Profili reologici regime Elastico-Frizionale', fontsize = '14', fontweight='bold')\n",
    "plt.legend(loc='best')"
   ]
  },
  {
   "cell_type": "markdown",
   "metadata": {
    "slideshow": {
     "slide_type": "slide"
    }
   },
   "source": [
    "### Ora stimiamo il ruolo della pressione dei fluidi nella riattivazione delle faglie\n",
    "Ci mettiamo all'interno dello stesso regime tettonico, p.es. ambiente estensionale e vediamo la condizione di riattivazione per $\\lambda$ = 0.4 e $\\lambda$ = 0.8."
   ]
  },
  {
   "cell_type": "code",
   "execution_count": 33,
   "metadata": {
    "slideshow": {
     "slide_type": "-"
    }
   },
   "outputs": [
    {
     "data": {
      "text/plain": [
       "[<matplotlib.lines.Line2D at 0x7ff452594eb0>]"
      ]
     },
     "execution_count": 33,
     "metadata": {},
     "output_type": "execute_result"
    }
   ],
   "source": [
    "lam1 = 0.8 \n",
    "sdc_lam1 = be*rho*g*z*(1-lam1)\n",
    "\n",
    "fig=plt.figure()\n",
    "plt.plot(sdc*1e-6, -z*1e-3, 'k')\n",
    "plt.plot(sdc_lam1*1e-6, -z*1e-3, 'r')"
   ]
  },
  {
   "cell_type": "code",
   "execution_count": 34,
   "metadata": {
    "slideshow": {
     "slide_type": "subslide"
    }
   },
   "outputs": [
    {
     "data": {
      "text/plain": [
       "<matplotlib.legend.Legend at 0x7ff4523c04c0>"
      ]
     },
     "execution_count": 34,
     "metadata": {},
     "output_type": "execute_result"
    }
   ],
   "source": [
    "# define the differential stress \n",
    "lam1 = 0.8\n",
    "sde1 = be*rho*g*z*(1-lam1) \n",
    "\n",
    "# plot to compare the results \n",
    "fig=plt.figure()\n",
    "plt.plot(sde*1e-6,-z*1e-3, c = 'b', label=r'$\\lambda$ = 0.4')\n",
    "plt.plot(sde1*1e-6,-z*1e-3, c = 'b', linestyle = 'dashed', label=r'$\\lambda$ = 0.8')\n",
    "plt.xlabel('Stress differenziale (MPa)', fontsize = '14')\n",
    "plt.ylabel('Profondità, (km)', fontsize = '14')\n",
    "plt.legend(loc='best')"
   ]
  },
  {
   "cell_type": "markdown",
   "metadata": {
    "slideshow": {
     "slide_type": "-"
    }
   },
   "source": [
    "<font color='blue'>Notare come la nostra analisi mostra che l'aumentare della pressione dei fluidi rende la riattivazione di una faglia, ovvero il movimento della stessa molto più facile.</font>  "
   ]
  },
  {
   "cell_type": "markdown",
   "metadata": {
    "slideshow": {
     "slide_type": "slide"
    }
   },
   "source": [
    "### Ora stimiamo il ruolo del coeffciente di attrito nella riattivazione delle faglie\n",
    "Ci mettiamo all'interno dello stesso regime tettonico, p.es. ambiente estensionale a $\\lambda$ = 0.4, e vediamo la condizione di riattivazione per $\\mu$ = 0.75 e $\\mu$ = 0.2."
   ]
  },
  {
   "cell_type": "code",
   "execution_count": 38,
   "metadata": {
    "slideshow": {
     "slide_type": "-"
    }
   },
   "outputs": [
    {
     "name": "stdout",
     "output_type": "stream",
     "text": [
      "1\n",
      "1 99\n"
     ]
    }
   ],
   "source": [
    "a = 1 \n",
    "print(a)\n",
    "a1=99\n",
    "print(a,a1)"
   ]
  },
  {
   "cell_type": "code",
   "execution_count": 35,
   "metadata": {
    "slideshow": {
     "slide_type": "subslide"
    }
   },
   "outputs": [
    {
     "data": {
      "text/plain": [
       "<matplotlib.legend.Legend at 0x7ff452356f70>"
      ]
     },
     "execution_count": 35,
     "metadata": {},
     "output_type": "execute_result"
    }
   ],
   "source": [
    "# calculate first the B parameter and then the differential stress for the new coefficient of friction\n",
    "mu1 = 0.2\n",
    "R1 = (np.sqrt(1+mu1**2) + mu1)**2\n",
    "be1 = (R1-1)/R1\n",
    "sde1 = be1*rho*g*z*(1-lam) \n",
    "\n",
    "# plot and compare the results \n",
    "fig = plt.figure()\n",
    "plt.plot(sde*1e-6,-z*1e-3, c = 'b', label=r'$\\mu$ = 0.75')\n",
    "plt.plot(sde1*1e-6,-z*1e-3, c = 'r', linestyle='dotted', label=r'$\\mu$ = 0.20')\n",
    "plt.xlabel('Stress differenziale (MPa)', fontsize = '14')\n",
    "plt.ylabel('Profondità, (km)', fontsize = '14')\n",
    "plt.legend(loc='best')"
   ]
  },
  {
   "cell_type": "markdown",
   "metadata": {
    "slideshow": {
     "slide_type": "-"
    }
   },
   "source": [
    "<font color='blue'>Si nota come la diminuzione del coefficiente di attrito rende la riattivazione della faglia più facile</font> "
   ]
  },
  {
   "cell_type": "markdown",
   "metadata": {
    "slideshow": {
     "slide_type": "slide"
    }
   },
   "source": [
    "### Ora passiamo al regime **<font color='red'>Viscoso</font>**"
   ]
  },
  {
   "cell_type": "markdown",
   "metadata": {
    "slideshow": {
     "slide_type": "-"
    }
   },
   "source": [
    "For the viscous behavior the differential stress can written as:  \n",
    "\n",
    "$(\\sigma_1 - \\sigma_3) = (\\frac{\\dot{\\epsilon}}{A})^{\\frac{1}{n}} exp(\\frac{Q}{nRT})$  \n",
    "\n",
    "Where:  \n",
    "- $\\dot{\\epsilon} = 1e^{-12}$ [$s^{-1}$] is the strain rate  \n",
    "- $A = 3.2*10^{-4} [MPa^{-n}s^{-1}]$ is a constant related to the lithology  \n",
    "- $n = 2.3$  is a constant related to the lithology   \n",
    "- $Q = 154*10^{3} [J/mol]$ activation energy  \n",
    "- $R = 8.134472 [J/molK]$ gas constant  \n",
    "- T [K] is the temperature variation with depth  \n",
    "\n",
    "To obtain the temperature variation with depth we need to know the geothermal gradient that for now we will assume being $20^{\\circ}C/km$.  \n",
    "<font color='red'>Try to do the dimentional analysis to check if everything is correct."
   ]
  },
  {
   "cell_type": "markdown",
   "metadata": {
    "slideshow": {
     "slide_type": "slide"
    }
   },
   "source": [
    "Now we have to define all the constants that we need"
   ]
  },
  {
   "cell_type": "code",
   "execution_count": null,
   "metadata": {
    "slideshow": {
     "slide_type": "-"
    }
   },
   "outputs": [],
   "source": []
  },
  {
   "cell_type": "code",
   "execution_count": 39,
   "metadata": {
    "slideshow": {
     "slide_type": "fragment"
    }
   },
   "outputs": [],
   "source": [
    "sr = 1e-12  #strain rate in s-1\n",
    "A = 3.2e-4  #costante funzione della litologia\n",
    "n = 2.3     #costante funzione della litologia\n",
    "Q = 154e3   #energia di attivazione J/mol\n",
    "R = 8.134472 #costante dei gas"
   ]
  },
  {
   "cell_type": "markdown",
   "metadata": {
    "slideshow": {
     "slide_type": "slide"
    }
   },
   "source": [
    "Ora dobbiamo ricostruire l'andamento della temperatura con la profondità per un gradiente geotermico di 20 °C/km."
   ]
  },
  {
   "cell_type": "code",
   "execution_count": 41,
   "metadata": {
    "slideshow": {
     "slide_type": "-"
    }
   },
   "outputs": [
    {
     "data": {
      "text/plain": [
       "[<matplotlib.lines.Line2D at 0x7ff451e78df0>]"
      ]
     },
     "execution_count": 41,
     "metadata": {},
     "output_type": "execute_result"
    }
   ],
   "source": [
    "z = np.arange(0,50000,1) # [m]\n",
    "T = 20*-z*1e-3\n",
    "T = T+273.15\n",
    "fig=plt.figure()\n",
    "plt.plot(z,T)"
   ]
  },
  {
   "cell_type": "code",
   "execution_count": 42,
   "metadata": {
    "slideshow": {
     "slide_type": "fragment"
    }
   },
   "outputs": [
    {
     "data": {
      "text/plain": [
       "Text(0, 0.5, 'Profondità, (km)')"
      ]
     },
     "execution_count": 42,
     "metadata": {},
     "output_type": "execute_result"
    }
   ],
   "source": [
    "T = 20*1e-3*z +273.15 # T in Kelvin = t in Celsius + 273.15\n",
    "\n",
    "# INOLTRE, z è espresso in metri quindi dobbiamo moltiplicare per 10-3 per ottenere i km \n",
    "\n",
    "fig = plt.figure()\n",
    "plt.title('geothermal gradient for T=$20^{\\circ}C/km$')\n",
    "plt.plot(T,-z)     #facciamo qualche controlle per essere sicuri che l'andamento di T con z sia corretto.\n",
    "plt.xlabel('Temperature [$^{\\circ}C/km$]', fontsize = '14')\n",
    "plt.ylabel('Profondità, (km)', fontsize = '14')"
   ]
  },
  {
   "cell_type": "markdown",
   "metadata": {
    "slideshow": {
     "slide_type": "slide"
    }
   },
   "source": [
    "Finally we implement everything in the main equation and calculate the differential stress in the viscous regime"
   ]
  },
  {
   "cell_type": "code",
   "execution_count": 43,
   "metadata": {
    "slideshow": {
     "slide_type": "-"
    }
   },
   "outputs": [
    {
     "data": {
      "text/plain": [
       "[<matplotlib.lines.Line2D at 0x7ff451c42670>]"
      ]
     },
     "execution_count": 43,
     "metadata": {},
     "output_type": "execute_result"
    }
   ],
   "source": [
    "sdv = ((sr/A)**(1/n))*np.exp(Q/(n*R*T))\n",
    "fig=plt.plot()\n",
    "plt.plot(sdv,-z)"
   ]
  },
  {
   "cell_type": "code",
   "execution_count": 44,
   "metadata": {
    "slideshow": {
     "slide_type": "fragment"
    }
   },
   "outputs": [
    {
     "data": {
      "text/plain": [
       "(0.0, 650.0)"
      ]
     },
     "execution_count": 44,
     "metadata": {},
     "output_type": "execute_result"
    }
   ],
   "source": [
    "sdv = ((sr/A)**(1/n))* np.exp(Q/(n*R*T))\n",
    "\n",
    "plt.plot(sdv,-z*1e-3)\n",
    "plt.xlabel('Stress differenziale (MPa)', fontsize = '14')\n",
    "plt.ylabel('Profondità, (km)', fontsize = '14')\n",
    "plt.xlim(0,650)"
   ]
  },
  {
   "cell_type": "markdown",
   "metadata": {
    "slideshow": {
     "slide_type": "slide"
    }
   },
   "source": [
    "### Ora combiniamo il regime Elastico-Frizionale con quello viscoso, p.es. per l'ambiente compressivo. "
   ]
  },
  {
   "cell_type": "code",
   "execution_count": null,
   "metadata": {
    "slideshow": {
     "slide_type": "-"
    }
   },
   "outputs": [],
   "source": []
  },
  {
   "cell_type": "code",
   "execution_count": 45,
   "metadata": {
    "slideshow": {
     "slide_type": "fragment"
    }
   },
   "outputs": [
    {
     "data": {
      "text/plain": [
       "(0.0, 1500.0)"
      ]
     },
     "execution_count": 45,
     "metadata": {},
     "output_type": "execute_result"
    }
   ],
   "source": [
    "fig=plt.figure()\n",
    "plt.plot(sdc*1e-6,-z*1e-3, c = 'r', label = 'Elastico-Frizionale')\n",
    "plt.plot(sdv,-z*1e-3, c = 'm', label = 'Viscoso')\n",
    "plt.xlabel('Stress differenziale (MPa)', fontsize = '14')\n",
    "plt.ylabel('Profondità, (km)', fontsize = '14')\n",
    "plt.legend(loc='best')\n",
    "plt.xlim(0,1500)"
   ]
  },
  {
   "cell_type": "markdown",
   "metadata": {
    "slideshow": {
     "slide_type": "slide"
    }
   },
   "source": [
    "Ora stimiamo il ruolo dello strain-rate nella transizione \"Fragile-Duttile\""
   ]
  },
  {
   "cell_type": "code",
   "execution_count": null,
   "metadata": {
    "slideshow": {
     "slide_type": "-"
    }
   },
   "outputs": [],
   "source": []
  },
  {
   "cell_type": "code",
   "execution_count": 46,
   "metadata": {
    "slideshow": {
     "slide_type": "fragment"
    }
   },
   "outputs": [
    {
     "data": {
      "text/plain": [
       "(0.0, 2700.0)"
      ]
     },
     "execution_count": 46,
     "metadata": {},
     "output_type": "execute_result"
    }
   ],
   "source": [
    "sr1 = 1e-9  #strain rate in s-1\n",
    "sdv1 = ((sr1/A)**(1/n))* np.exp(Q/(n*R*T))\n",
    "\n",
    "fig=plt.figure()\n",
    "plt.plot(sdv,-z*1e-3, c = 'k', linestyle='dashed',label = 'strain rate 10$^{-12}$')\n",
    "plt.plot(sdv1,-z*1e-3, c = 'k', label = 'strain rate 10$^{-9}$')\n",
    "plt.plot(sdc*1e-6,-z*1e-3, c = 'r', label = 'Elastico-Frizionale')\n",
    "plt.xlabel('Stress differenziale (MPa)', fontsize = '14')\n",
    "plt.ylabel('Profondità, (km)', fontsize = '14')\n",
    "plt.legend(loc='best')\n",
    "plt.xlim(0,2700)"
   ]
  },
  {
   "cell_type": "markdown",
   "metadata": {
    "slideshow": {
     "slide_type": "-"
    }
   },
   "source": [
    "<font color='blue'>Notare come l'incremento della velocità di deformazione renda la deformazione fragile più profonda.<font>"
   ]
  },
  {
   "cell_type": "markdown",
   "metadata": {
    "slideshow": {
     "slide_type": "slide"
    }
   },
   "source": [
    "Ora stimiamo il ruolo del gradiente geotermico nella transizione \"Fragile-Duttile\" "
   ]
  },
  {
   "cell_type": "code",
   "execution_count": null,
   "metadata": {
    "slideshow": {
     "slide_type": "-"
    }
   },
   "outputs": [],
   "source": []
  },
  {
   "cell_type": "code",
   "execution_count": 47,
   "metadata": {
    "slideshow": {
     "slide_type": "subslide"
    }
   },
   "outputs": [
    {
     "data": {
      "text/plain": [
       "(0.0, 2700.0)"
      ]
     },
     "execution_count": 47,
     "metadata": {},
     "output_type": "execute_result"
    }
   ],
   "source": [
    "\n",
    "T1 = 10*1e-3*z +273.15   #gradiente geotermico di 10 °C/km \n",
    "sdv2 = ((sr/A)**(1/n))* np.exp(Q/(n*R*T1))\n",
    "\n",
    "fig=plt.figure()\n",
    "plt.plot(sdv,-z*1e-3, c = 'm', linestyle='dashed',label = 'Viscoso 20 °C/km')\n",
    "plt.plot(sdv2,-z*1e-3, c = 'm', label = 'Viscoso 10 °C/km')\n",
    "plt.plot(sdc*1e-6,-z*1e-3, c = 'r', label = 'Elastico-Frizionale')\n",
    "plt.xlabel('Stress differenziale (MPa)', fontsize = '14')\n",
    "plt.ylabel('Profondità, (km)', fontsize = '14')\n",
    "plt.legend(loc='best')\n",
    "plt.xlim(0,2700)"
   ]
  },
  {
   "cell_type": "markdown",
   "metadata": {
    "slideshow": {
     "slide_type": "-"
    }
   },
   "source": [
    "<font color='blue'>Notare come la diminuzione del gradiente geotermico renda la transizione \"Fragile-Duttile\" più profonda e come di conseguenza lo stress differenziale aumenti alla transizione \"Fragile-Duttile\".<font> "
   ]
  },
  {
   "cell_type": "markdown",
   "metadata": {
    "slideshow": {
     "slide_type": "slide"
    }
   },
   "source": [
    "# <font color='blue'>Summary </font>"
   ]
  },
  {
   "cell_type": "markdown",
   "metadata": {
    "slideshow": {
     "slide_type": "-"
    }
   },
   "source": [
    "<font color='blue'>Profili reologici regime Elastico-Frizionale, EF:\n",
    "    \n",
    "    Regime compressivo\n",
    "    Regime trascorrente\n",
    "    Regime estensionale\n",
    "\n",
    "<font color='blue'>Ruolo della pressione dei fluidi nella riattivazione delle faglie\n",
    "    \n",
    "<font color='blue'>Ruolo del coefficiente di attrito nella riattivazione delle faglie\n",
    "    \n",
    "<font color='blue'>Profili reologici regime Viscoso, V\n",
    "    \n",
    "<font color='blue'>Ruolo del gradiente geotermico nella transizione EF-V (fragile-duttile)\n",
    "    \n",
    "<font color='blue'>Ruolo dello strain rate (velocità di deformazione) nella transizione EF-V (fragile-duttile)"
   ]
  }
 ],
 "metadata": {
  "celltoolbar": "Slideshow",
  "kernelspec": {
   "display_name": "Python 3 (ipykernel)",
   "language": "python",
   "name": "python3"
  },
  "language_info": {
   "codemirror_mode": {
    "name": "ipython",
    "version": 3
   },
   "file_extension": ".py",
   "mimetype": "text/x-python",
   "name": "python",
   "nbconvert_exporter": "python",
   "pygments_lexer": "ipython3",
   "version": "3.10.9"
  },
  "vscode": {
   "interpreter": {
    "hash": "916dbcbb3f70747c44a77c7bcd40155683ae19c65e1c03b4aa3499c5328201f1"
   }
  }
 },
 "nbformat": 4,
 "nbformat_minor": 4
}
